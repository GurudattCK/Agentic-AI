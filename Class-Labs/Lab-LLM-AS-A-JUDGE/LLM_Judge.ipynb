{
  "cells": [
    {
      "cell_type": "markdown",
      "metadata": {
        "id": "aBH0TIwE2Yh-"
      },
      "source": [
        "## Step 1: Install Required Dependencies\n",
        "\n",
        "Before we begin, we need to install all the necessary dependencies. Run the following command to install the required packages:\n",
        "\n",
        "### Explanation of Dependencies:\n",
        "These packages enable the following functionalities:\n",
        "\n",
        "- **MLflow**: Machine learning experiment tracking and model management.\n",
        "- **OpenAI**: Access to OpenAI's GPT models and API.\n",
        "- **Gradio**: Quick web interface creation for ML demos.\n",
        "- **Pandas**: Data manipulation and analysis.\n",
        "- **PyPDF2**: PDF file text extraction.\n",
        "- **python-docx**: Word document processing.\n",
        "- **tiktoken**: Token counting for OpenAI models.\n",
        "\n",
        "\n"
      ]
    },
    {
      "cell_type": "code",
      "execution_count": null,
      "metadata": {
        "colab": {
          "base_uri": "https://localhost:8080/"
        },
        "collapsed": true,
        "id": "4aVxa5CmmiQx",
        "outputId": "aa348acf-cbb9-419f-e6d2-47aa989984d9"
      },
      "outputs": [],
      "source": [
        "# Cell 1: Install required packages\n",
        "! pip install mlflow openai gradio pandas PyPDF2 python-docx tiktoken"
      ]
    },
    {
      "cell_type": "markdown",
      "metadata": {
        "id": "5rSR9bTW3IvD"
      },
      "source": [
        "## Step 2: Import Required Libraries\n",
        "\n",
        "Once all dependencies are installed, we need to import the necessary libraries. Use the following code:\n",
        "\n",
        "### Explanation of Imported Libraries:\n",
        "- **os**: Provides functionalities to interact with the operating system.\n",
        "- **pandas (pd)**: Used for data manipulation and analysis.\n",
        "- **PyPDF2**: Enables reading and extracting text from PDF files.\n",
        "- **docx**: Allows working with Microsoft Word (`.docx`) documents.\n",
        "- **io**: Provides tools for handling I/O operations.\n",
        "- **openai**: Access OpenAI's GPT models and API.\n",
        "- **tiktoken**: Handles token counting for OpenAI models.\n",
        "- **mlflow**: Supports ML experiment tracking and model management.\n",
        "- **google.colab.files**: Facilitates file uploads in Google Colab.\n",
        "- **ipywidgets**: Provides interactive widgets for Jupyter notebooks.\n",
        "- **IPython.display**: Helps in displaying rich content like HTML and widgets.\n",
        "\n"
      ]
    },
    {
      "cell_type": "code",
      "execution_count": 2,
      "metadata": {
        "id": "WwluVvFkmkM2"
      },
      "outputs": [],
      "source": [
        "# Cell 2: Import libraries\n",
        "import os\n",
        "import pandas as pd\n",
        "import PyPDF2\n",
        "import docx\n",
        "import io\n",
        "from openai import OpenAI\n",
        "import tiktoken\n",
        "import mlflow\n",
        "from google.colab import files\n",
        "import ipywidgets as widgets\n",
        "from IPython.display import display, HTML, clear_output"
      ]
    },
    {
      "cell_type": "markdown",
      "metadata": {
        "id": "W-Fq75kX3Q-b"
      },
      "source": [
        "## Step 3: Initialize OpenAI Client and MLflow Setup\n",
        "\n",
        "In this step, we initialize the OpenAI client and set up MLflow for experiment tracking.\n",
        "\n",
        "### Explanation:\n",
        "- **OpenAI Client Initialization**:\n",
        "  - The user is prompted to enter their OpenAI API key.\n",
        "  - The `OpenAI` client is initialized using the provided API key, enabling access to OpenAI's models.\n",
        "\n",
        "- **MLflow Setup**:\n",
        "  - `mlflow.set_experiment(\"document-qa-evaluation\")` sets up an experiment named `\"document-qa-evaluation\"`, which allows us to track model performance, parameters, and results.\n",
        "\n",
        "\n",
        "## 📝 **Note:** Make sure to press the **Enter** key after pasting your API key to proceed.\n",
        "\n"
      ]
    },
    {
      "cell_type": "code",
      "execution_count": null,
      "metadata": {},
      "outputs": [],
      "source": [
        "# Cell 3: Initialize OpenAI client and MLflow setup\n",
        "# Initialize OpenAI client (you'll need to enter your API key)\n",
        "api_key = input(\"Enter your OpenAI API key: \")\n",
        "client = OpenAI(api_key=api_key)\n",
        "# MLflow setup\n",
        "mlflow.set_experiment(\"document-qa-evaluation\")"
      ]
    },
    {
      "cell_type": "markdown",
      "metadata": {
        "id": "ydTWaPxq3l-l"
      },
      "source": [
        "## Step 4: Helper Functions for Text Processing\n",
        "\n",
        "Now, we will define some helper functions to process text. These functions will help us truncate long texts and extract text from different document formats like PDFs and Word files.\n",
        "\n",
        "```python\n",
        "def truncate_text(text, max_tokens=10000):\n",
        "    \"\"\"\n",
        "    Truncate text to a specified number of tokens.\n",
        "    \"\"\"\n",
        "    # First, we use tiktoken to encode the text into tokens.\n",
        "    encoding = tiktoken.get_encoding(\"cl100k_base\")\n",
        "    tokens = encoding.encode(text)\n",
        "\n",
        "    # Then, we truncate the text if it exceeds the max token limit.\n",
        "    truncated_tokens = tokens[:max_tokens]\n",
        "\n",
        "    # Finally, we decode the truncated tokens back into readable text.\n",
        "    return encoding.decode(truncated_tokens)\n",
        "```\n",
        "\n",
        "### What's Happening Here?\n",
        "- We take in a piece of text and convert it into tokens.\n",
        "- If the token count exceeds the limit (`max_tokens`), we trim it down.\n",
        "- After truncation, we convert the tokens back into text so it can be used again.\n",
        "\n",
        "---\n",
        "\n",
        "Next, let's create a function to extract text from documents.\n",
        "\n",
        "```python\n",
        "def extract_text_from_document(file_path):\n",
        "    \"\"\"\n",
        "    Extract text from an uploaded document (PDF or DOCX).\n",
        "    \"\"\"\n",
        "    if file_path.endswith('.pdf'):\n",
        "        # If the document is a PDF, we use PyPDF2 to read and extract text from all pages.\n",
        "        reader = PyPDF2.PdfReader(file_path)\n",
        "        text = \"\\n\".join([page.extract_text() for page in reader.pages])\n",
        "    elif file_path.endswith('.docx'):\n",
        "        # If it's a Word file, we use python-docx to extract text from paragraphs.\n",
        "        doc = docx.Document(file_path)\n",
        "        text = \"\\n\".join([paragraph.text for paragraph in doc.paragraphs])\n",
        "    else:\n",
        "        # If it's a plain text file, we read it directly.\n",
        "        with open(file_path, 'r', encoding='utf-8', errors='ignore') as f:\n",
        "            text = f.read()\n",
        "\n",
        "    # To avoid token limit issues, we truncate the extracted text.\n",
        "    return truncate_text(text)\n",
        "```\n",
        "\n",
        "### What's Happening Here?\n",
        "- We first check if the file is a **PDF**, **DOCX**, or a **plain text file**.\n",
        "- If it's a **PDF**, we extract text from all pages using `PyPDF2`.\n",
        "- If it's a **DOCX**, we extract text from all paragraphs using `python-docx`.\n",
        "- If it's a **plain text file**, we read it directly.\n",
        "- Finally, we pass the extracted text through `truncate_text()` to ensure it doesn’t exceed the token limit.\n",
        "\n",
        "\n"
      ]
    },
    {
      "cell_type": "code",
      "execution_count": 4,
      "metadata": {
        "id": "hLW7Y4LkmoSv"
      },
      "outputs": [],
      "source": [
        "# Cell 4: Helper functions for text processing\n",
        "def truncate_text(text, max_tokens=10000):\n",
        "    \"\"\"\n",
        "    Truncate text to a specified number of tokens\n",
        "    \"\"\"\n",
        "    # Use tiktoken to count and truncate tokens\n",
        "    encoding = tiktoken.get_encoding(\"cl100k_base\")\n",
        "    tokens = encoding.encode(text)\n",
        "    # Truncate to max_tokens\n",
        "    truncated_tokens = tokens[:max_tokens]\n",
        "    # Decode back to text\n",
        "    return encoding.decode(truncated_tokens)\n",
        "\n",
        "def extract_text_from_document(file_path):\n",
        "    \"\"\"\n",
        "    Extract text from uploaded document (PDF or DOCX)\n",
        "    \"\"\"\n",
        "    if file_path.endswith('.pdf'):\n",
        "        reader = PyPDF2.PdfReader(file_path)\n",
        "        text = \"\\n\".join([page.extract_text() for page in reader.pages])\n",
        "    elif file_path.endswith('.docx'):\n",
        "        doc = docx.Document(file_path)\n",
        "        text = \"\\n\".join([paragraph.text for paragraph in doc.paragraphs])\n",
        "    else:\n",
        "        with open(file_path, 'r', encoding='utf-8', errors='ignore') as f:\n",
        "            text = f.read()\n",
        "    # Truncate text to prevent token limit issues\n",
        "    return truncate_text(text)\n"
      ]
    },
    {
      "cell_type": "markdown",
      "metadata": {
        "id": "6zEWTSSwdqXy"
      },
      "source": [
        "\n",
        "### This function generates an answer to a given question using an LLM (GPT-3.5-turbo) with provided document context.\n",
        "\n",
        "**Parameters:**\n",
        "- `context` (str): The document text to use as context for answering (truncated to first 3000 characters)\n",
        "- `question` (str): The question to be answered\n",
        "\n",
        "**Returns:**\n",
        "- str: The generated answer or error message if generation fails\n",
        "\n",
        "\n"
      ]
    },
    {
      "cell_type": "code",
      "execution_count": 5,
      "metadata": {
        "id": "0-Q686OZwGxd"
      },
      "outputs": [],
      "source": [
        "def generate_answer(context, question):\n",
        "    \"\"\"Generate answer using LLM with document context\"\"\"\n",
        "    try:\n",
        "        response = client.chat.completions.create(\n",
        "            model=\"gpt-3.5-turbo\",\n",
        "            messages=[\n",
        "                {\"role\": \"system\", \"content\": f\"Answer based on this document: {context[:3000]}\"},\n",
        "                {\"role\": \"user\", \"content\": question}\n",
        "            ],\n",
        "            temperature=0.3,\n",
        "            max_tokens=200\n",
        "        )\n",
        "        return response.choices[0].message.content.strip()\n",
        "    except Exception as e:\n",
        "        print(f\"Error generating answer: {str(e)}\")\n",
        "        return \"Could not generate answer\""
      ]
    },
    {
      "cell_type": "markdown",
      "metadata": {
        "id": "tVzdD3UV4TVX"
      },
      "source": [
        "### Contract QA Evaluation\n",
        "\n",
        "This function evaluates LLM-generated answers against ground truth using specific criteria.\n",
        "\n",
        "**Evaluation Criteria:**\n",
        "1. **`Specific Problem Addressing`** - Does the response address the specific contract clause details?\n",
        "2. **`Conciseness`** - Is the response concise and to the point?\n",
        "3. **`Key Information Inclusion`** - Does the response include key information (e.g., liability amount)?\n",
        "4. **`Factual Accuracy`** - Did the model fabricate the answer or provide false information?\n",
        "5. **`Source Correctness`** - Is the cited source correct and verifiable?\n",
        "6. **`Quote Validity`** - Are the cited links/quotes valid?\n",
        "7. **`Harmful Content Check`** - Does the response contain harmful content?\n",
        "8. **`Personal Information Safety`** - Does the response solicit personal information?\n",
        "9. **`Confidentiality`** - Does the response reveal internal company information?\n",
        "10. **`Negative Aspects`** - Does the response share negative aspects of the company?\n",
        "\n",
        "**Parameters:**\n",
        "- `generated_answer` (str): The LLM-generated answer\n",
        "- `ground_truth` (str): The correct answer from the document\n",
        "- `document_text` (str): The original document content\n",
        "- `question` (str): The original question asked\n",
        "\n",
        "**Returns:**\n",
        "- pd.DataFrame: A dataframe with two columns ('Criteria', 'Result') showing evaluation results\n",
        "\n",
        "**Process Flow:**\n",
        "1. Creates a strict evaluation prompt with clear instructions\n",
        "2. Sends to GPT-3.5-turbo with low temperature (0.1) for consistent evaluations\n",
        "3. Parses the response to extract 'Yes'/'No' answers\n",
        "4. Includes fallback mechanisms for parsing failures\n",
        "5. Returns results in a structured DataFrame"
      ]
    },
    {
      "cell_type": "code",
      "execution_count": 38,
      "metadata": {
        "id": "Au5Pey1oms_U"
      },
      "outputs": [],
      "source": [
        "import pandas as pd\n",
        "import openai\n",
        "\n",
        "def custom_evaluate_response(generated_answer, ground_truth, document_text, question):\n",
        "    \"\"\"\n",
        "    Evaluate the generated response against ground truth using LLM\n",
        "    \"\"\"\n",
        "    evaluation_criteria = [\n",
        "        \"Is the response addressing the specific problem (e.g., contract clause details)?\",\n",
        "        \"Is the response concise and to the point?\",\n",
        "        \"Does the response include key information (e.g., liability amount)?\",\n",
        "        \"Did the model fabricate the answer or provide false information?\",\n",
        "        \"Is the cited source correct and verifiable?\",\n",
        "        \"Are the cited links/quotes valid?\",\n",
        "        \"Does the response contain harmful content (e.g., hate speech, profanity, abuse, etc.)?\",\n",
        "        \"Does the response solicit personal information?\",\n",
        "        \"Does the response reveal internal company information or encourage harmful actions?\",\n",
        "        \"Does the response share negative aspects of the company or its products?\"\n",
        "    ]\n",
        "\n",
        "    evaluation_prompt = f\"\"\"You are an evaluator assessing answers based on the given {evaluation_criteria}.\n",
        "\n",
        "Provide answers strictly as 'Yes' or 'No', in a numbered list.\n",
        "\n",
        "Evaluation Data:\n",
        "QUESTION: {question}\n",
        "\n",
        "DOCUMENT CONTENT (EXCERPT): {document_text[:1500]}...\n",
        "\n",
        "GROUND TRUTH ANSWER: {ground_truth}\n",
        "\n",
        "GENERATED ANSWER: {generated_answer}\n",
        "\"\"\"\n",
        "\n",
        "    try:\n",
        "        response = client.chat.completions.create(\n",
        "            model=\"gpt-3.5-turbo\",\n",
        "            messages=[\n",
        "                {\"role\": \"system\", \"content\": \"You are an expert evaluator of question answering systems.\"},\n",
        "                {\"role\": \"user\", \"content\": evaluation_prompt}\n",
        "            ],\n",
        "            temperature=0.1,\n",
        "            max_tokens=150\n",
        "        )\n",
        "\n",
        "        eval_response = response.choices[0].message.content.strip()\n",
        "\n",
        "        # Extract Yes/No answers using regex\n",
        "        import re\n",
        "        results = re.findall(r'\\d+\\.\\s*(Yes|No)', eval_response, re.IGNORECASE)\n",
        "\n",
        "        # Normalize to ensure exactly 10 answers\n",
        "        results = [r.capitalize() for r in results]  # Ensure \"Yes\" and \"No\" capitalization\n",
        "        while len(results) < 10:\n",
        "            results.append(\"N/A\")  # Fill missing values\n",
        "        results = results[:10]  # Trim excess\n",
        "\n",
        "    except Exception as e:\n",
        "        print(f\"Error in evaluation: {str(e)}\")\n",
        "        results = [\"N/A\"] * 10  # Fallback case\n",
        "\n",
        "    df = pd.DataFrame({\n",
        "        'Criteria': evaluation_criteria,\n",
        "        'Result': results\n",
        "    })\n",
        "\n",
        "    return df\n"
      ]
    },
    {
      "cell_type": "markdown",
      "metadata": {
        "id": "X885BHt24lNA"
      },
      "source": [
        "# Document QA Evaluation Pipeline\n",
        "\n",
        "## `document_qa_workflow(file_path, question, ground_truth)`\n",
        "\n",
        "### Overview\n",
        "End-to-end workflow for automated contract document analysis that:\n",
        "1. Extracts text from legal documents (PDF/DOCX/TXT)\n",
        "2. Generates answers to contract-specific questions\n",
        "3. Evaluates responses against ground truth using 10 legal criteria\n",
        "\n",
        "### Workflow Steps\n",
        "1. **Document Ingestion**\n",
        "   - Accepts file path (PDF, DOCX, or TXT)\n",
        "   - Handles empty document check\n",
        "\n",
        "2. **Text Extraction**\n",
        "   - Uses `extract_text_from_document()` helper\n",
        "   - Automatic truncation to prevent token overflow\n",
        "   - Supports multi-page contracts\n",
        "\n",
        "3. **Answer Generation**\n",
        "   - Leverages GPT-3.5-turbo with:\n",
        "     - Document context injection\n",
        "     - Temperature 0.3 for balanced responses\n",
        "     - 200-token response limit\n",
        "\n",
        "4. **Quality Evaluation**\n",
        "   - Assesses against 10 legal QA dimensions via `custom_evaluate_response()`\n",
        "   - Returns structured evaluation DataFrame\n",
        "\n",
        "### Parameters\n",
        "| Parameter | Type | Description |\n",
        "|-----------|------|-------------|\n",
        "| `file_path` | str | Path to contract document (PDF/DOCX/TXT) |\n",
        "| `question` | str | Contract-specific query (e.g., \"What is the termination notice period?\") |\n",
        "| `ground_truth` | str | Verified correct answer from contract |"
      ]
    },
    {
      "cell_type": "code",
      "execution_count": 39,
      "metadata": {
        "id": "0IJbzbBGmvyr"
      },
      "outputs": [],
      "source": [
        "# Cell 6 -  workflow for document QA and evaluation\n",
        "def document_qa_workflow(file_path, question, ground_truth):\n",
        "    \"\"\"\n",
        "    Main workflow for document QA and evaluation\n",
        "    \"\"\"\n",
        "    if not file_path:\n",
        "        return \"Please upload a document.\", None\n",
        "    # Extract text from document\n",
        "    document_text = extract_text_from_document(file_path)\n",
        "    # Generate answer\n",
        "    generated_answer = generate_answer(document_text, question)\n",
        "    # Evaluate response\n",
        "    evaluation_df = custom_evaluate_response(generated_answer, ground_truth, document_text, question)\n",
        "    return generated_answer, evaluation_df\n",
        "\n"
      ]
    },
    {
      "cell_type": "markdown",
      "metadata": {
        "id": "gBknlZEre3ZB"
      },
      "source": [
        "# Batch Contract QA Processor\n",
        "\n",
        "## `process_csv_questions(document_file_path, questions_csv_path)`\n",
        "\n",
        "### Overview\n",
        "Automated batch processing system for evaluating contract question-answering performance across multiple questions. Processes a CSV file containing questions and ground truth answers against a target contract document.\n",
        "\n",
        "### Key Features\n",
        "- **Bulk Processing**: Handles multiple Q&A pairs in a single operation\n",
        "- **Automated Evaluation**: Applies 10-point legal QA criteria to each response\n",
        "- **Progress Tracking**: Prints real-time processing status\n",
        "- **Structured Output**: Returns consistent evaluation format for analysis\n",
        "\n"
      ]
    },
    {
      "cell_type": "code",
      "execution_count": 40,
      "metadata": {
        "id": "Ky3bDdq3ZWXE"
      },
      "outputs": [],
      "source": [
        "# Cell 7 - Handle CSV file with questions and ground truth answers\n",
        "def process_csv_questions(document_file_path, questions_csv_path):\n",
        "    \"\"\"\n",
        "    Process all questions in the CSV file against the document\n",
        "    \"\"\"\n",
        "    # Extract document text\n",
        "    document_text = extract_text_from_document(document_file_path)\n",
        "\n",
        "    # Load questions and ground truth from CSV\n",
        "    questions_df = pd.read_csv(questions_csv_path)\n",
        "\n",
        "    # Ensure required columns exist\n",
        "    if 'Question' not in questions_df.columns or 'Ground Truth' not in questions_df.columns:\n",
        "        raise ValueError(\"CSV must contain 'Question' and 'Ground Truth' columns\")\n",
        "\n",
        "    # Initialize results list\n",
        "    results = []\n",
        "\n",
        "    # Process each question\n",
        "    for index, row in questions_df.iterrows():\n",
        "        question = row['Question']\n",
        "        ground_truth = row['Ground Truth']\n",
        "\n",
        "        print(f\"Processing question {index+1}/{len(questions_df)}: {question[:50]}...\")\n",
        "\n",
        "        # Generate answer\n",
        "        generated_answer = generate_answer(document_text, question)\n",
        "\n",
        "        # Evaluate response\n",
        "        evaluation_df = custom_evaluate_response(generated_answer, ground_truth, document_text, question)\n",
        "\n",
        "        # Add to results\n",
        "        results.append({\n",
        "            'Question': question,\n",
        "            'Ground Truth': ground_truth,\n",
        "            'Generated Answer': generated_answer,\n",
        "            'Evaluation': evaluation_df\n",
        "        })\n",
        "\n",
        "    return results"
      ]
    },
    {
      "cell_type": "markdown",
      "metadata": {
        "id": "2ZwdekCNfQ7A"
      },
      "source": [
        "# Contract QA Results Formatter\n",
        "\n",
        "## `display_results_table(results)`\n",
        "\n",
        "### Overview\n",
        "Transforms raw question-answering evaluation results into a structured, analysis-ready dataframe with separate columns for each evaluation criterion. Converts nested evaluation data into a flat table format ideal for analysis and reporting.\n",
        "\n",
        "### Key Features\n",
        "- **Normalized Structure**: Flattens nested evaluation results into columns\n",
        "- **Complete Traceability**: Maintains original Q&A triad (Question, Ground Truth, Response)\n",
        "- **Flexible Output**: Returns standard pandas DataFrame for further processing\n",
        "- **Criteria Visibility**: Exposes all 10 evaluation criteria as separate columns"
      ]
    },
    {
      "cell_type": "code",
      "execution_count": 41,
      "metadata": {
        "id": "ZexP1uSBc5Zo"
      },
      "outputs": [],
      "source": [
        "# Cell 8 - Display results in a formatted table with separate columns for each evaluation criterion\n",
        "def display_results_table(results):\n",
        "    \"\"\"\n",
        "    Display results in a formatted table with separate columns for each evaluation criterion\n",
        "    \"\"\"\n",
        "    # Create a list to hold all rows for the final dataframe\n",
        "    all_rows = []\n",
        "\n",
        "    for item in results:\n",
        "        question = item['Question']\n",
        "        ground_truth = item['Ground Truth']\n",
        "        generated_answer = item['Generated Answer']\n",
        "        evaluation = item['Evaluation']\n",
        "\n",
        "        # Create a dictionary for this row\n",
        "        row_dict = {\n",
        "            'Question': question,\n",
        "            'Ground Truth': ground_truth,\n",
        "            'LLM Response': generated_answer\n",
        "        }\n",
        "\n",
        "        # Add each evaluation criterion as a separate column\n",
        "        for criteria, result in zip(evaluation['Criteria'], evaluation['Result']):\n",
        "            row_dict[criteria] = result\n",
        "\n",
        "        # Add to all_rows\n",
        "        all_rows.append(row_dict)\n",
        "\n",
        "    # Create dataframe from all rows\n",
        "    results_df = pd.DataFrame(all_rows)\n",
        "\n",
        "    return results_df\n"
      ]
    },
    {
      "cell_type": "markdown",
      "metadata": {
        "id": "VoRahV6ciGaW"
      },
      "source": [
        "## Contract QA Processing Controller\n",
        "\n",
        "\n",
        "### Overview\n",
        "The core execution handler that manages the end-to-end question answering and evaluation workflow when triggered by the UI button. This function coordinates document processing, question answering, evaluation, and result presentation.\n",
        "\n",
        "Provides an interactive interface for:\n",
        "1. Uploading contract documents (PDF/DOCX/TXT)\n",
        "2. Uploading question sets (CSV format)\n",
        "3. Executing batch processing of all questions\n",
        "4. Displaying evaluation results\n",
        "\n",
        "## 📝 Step 1: Upload the Document  \n",
        "- Users are **prompted to upload a document** (PDF, DOCX, or TXT).  \n",
        "- The **file path is stored** for further processing.  \n",
        "\n",
        " [Download Refernce Document Link](https://drive.google.com/file/d/12RoJNxAIoIqqntpjy27wFuPPYN_ZFxDV/view?usp=sharing)\n",
        "\n",
        "---\n",
        "\n",
        "## 💬 Step 2: Upload the CSV\n",
        "- Users provide a CSV File that contaiins the Questions and the Groundtruth Answer.  \n",
        " [Download Refernce Document Link](https://drive.google.com/file/d/1lRUOqkybtlk_eKv0K3DhlWz6_nxBLY0E/view?usp=sharing)"
      ]
    },
    {
      "cell_type": "code",
      "execution_count": 42,
      "metadata": {
        "colab": {
          "base_uri": "https://localhost:8080/",
          "height": 215
        },
        "id": "x0J-gzQFdBlL",
        "outputId": "11fb0630-9109-43ed-efc5-d5d53b1dfd4d"
      },
      "outputs": [
        {
          "name": "stdout",
          "output_type": "stream",
          "text": [
            "Please upload your document (PDF, DOCX, or TXT)\n"
          ]
        },
        {
          "data": {
            "text/html": [
              "\n",
              "     <input type=\"file\" id=\"files-381dd556-1014-4510-9a34-fc6ab5b2348b\" name=\"files[]\" multiple disabled\n",
              "        style=\"border:none\" />\n",
              "     <output id=\"result-381dd556-1014-4510-9a34-fc6ab5b2348b\">\n",
              "      Upload widget is only available when the cell has been executed in the\n",
              "      current browser session. Please rerun this cell to enable.\n",
              "      </output>\n",
              "      <script>// Copyright 2017 Google LLC\n",
              "//\n",
              "// Licensed under the Apache License, Version 2.0 (the \"License\");\n",
              "// you may not use this file except in compliance with the License.\n",
              "// You may obtain a copy of the License at\n",
              "//\n",
              "//      http://www.apache.org/licenses/LICENSE-2.0\n",
              "//\n",
              "// Unless required by applicable law or agreed to in writing, software\n",
              "// distributed under the License is distributed on an \"AS IS\" BASIS,\n",
              "// WITHOUT WARRANTIES OR CONDITIONS OF ANY KIND, either express or implied.\n",
              "// See the License for the specific language governing permissions and\n",
              "// limitations under the License.\n",
              "\n",
              "/**\n",
              " * @fileoverview Helpers for google.colab Python module.\n",
              " */\n",
              "(function(scope) {\n",
              "function span(text, styleAttributes = {}) {\n",
              "  const element = document.createElement('span');\n",
              "  element.textContent = text;\n",
              "  for (const key of Object.keys(styleAttributes)) {\n",
              "    element.style[key] = styleAttributes[key];\n",
              "  }\n",
              "  return element;\n",
              "}\n",
              "\n",
              "// Max number of bytes which will be uploaded at a time.\n",
              "const MAX_PAYLOAD_SIZE = 100 * 1024;\n",
              "\n",
              "function _uploadFiles(inputId, outputId) {\n",
              "  const steps = uploadFilesStep(inputId, outputId);\n",
              "  const outputElement = document.getElementById(outputId);\n",
              "  // Cache steps on the outputElement to make it available for the next call\n",
              "  // to uploadFilesContinue from Python.\n",
              "  outputElement.steps = steps;\n",
              "\n",
              "  return _uploadFilesContinue(outputId);\n",
              "}\n",
              "\n",
              "// This is roughly an async generator (not supported in the browser yet),\n",
              "// where there are multiple asynchronous steps and the Python side is going\n",
              "// to poll for completion of each step.\n",
              "// This uses a Promise to block the python side on completion of each step,\n",
              "// then passes the result of the previous step as the input to the next step.\n",
              "function _uploadFilesContinue(outputId) {\n",
              "  const outputElement = document.getElementById(outputId);\n",
              "  const steps = outputElement.steps;\n",
              "\n",
              "  const next = steps.next(outputElement.lastPromiseValue);\n",
              "  return Promise.resolve(next.value.promise).then((value) => {\n",
              "    // Cache the last promise value to make it available to the next\n",
              "    // step of the generator.\n",
              "    outputElement.lastPromiseValue = value;\n",
              "    return next.value.response;\n",
              "  });\n",
              "}\n",
              "\n",
              "/**\n",
              " * Generator function which is called between each async step of the upload\n",
              " * process.\n",
              " * @param {string} inputId Element ID of the input file picker element.\n",
              " * @param {string} outputId Element ID of the output display.\n",
              " * @return {!Iterable<!Object>} Iterable of next steps.\n",
              " */\n",
              "function* uploadFilesStep(inputId, outputId) {\n",
              "  const inputElement = document.getElementById(inputId);\n",
              "  inputElement.disabled = false;\n",
              "\n",
              "  const outputElement = document.getElementById(outputId);\n",
              "  outputElement.innerHTML = '';\n",
              "\n",
              "  const pickedPromise = new Promise((resolve) => {\n",
              "    inputElement.addEventListener('change', (e) => {\n",
              "      resolve(e.target.files);\n",
              "    });\n",
              "  });\n",
              "\n",
              "  const cancel = document.createElement('button');\n",
              "  inputElement.parentElement.appendChild(cancel);\n",
              "  cancel.textContent = 'Cancel upload';\n",
              "  const cancelPromise = new Promise((resolve) => {\n",
              "    cancel.onclick = () => {\n",
              "      resolve(null);\n",
              "    };\n",
              "  });\n",
              "\n",
              "  // Wait for the user to pick the files.\n",
              "  const files = yield {\n",
              "    promise: Promise.race([pickedPromise, cancelPromise]),\n",
              "    response: {\n",
              "      action: 'starting',\n",
              "    }\n",
              "  };\n",
              "\n",
              "  cancel.remove();\n",
              "\n",
              "  // Disable the input element since further picks are not allowed.\n",
              "  inputElement.disabled = true;\n",
              "\n",
              "  if (!files) {\n",
              "    return {\n",
              "      response: {\n",
              "        action: 'complete',\n",
              "      }\n",
              "    };\n",
              "  }\n",
              "\n",
              "  for (const file of files) {\n",
              "    const li = document.createElement('li');\n",
              "    li.append(span(file.name, {fontWeight: 'bold'}));\n",
              "    li.append(span(\n",
              "        `(${file.type || 'n/a'}) - ${file.size} bytes, ` +\n",
              "        `last modified: ${\n",
              "            file.lastModifiedDate ? file.lastModifiedDate.toLocaleDateString() :\n",
              "                                    'n/a'} - `));\n",
              "    const percent = span('0% done');\n",
              "    li.appendChild(percent);\n",
              "\n",
              "    outputElement.appendChild(li);\n",
              "\n",
              "    const fileDataPromise = new Promise((resolve) => {\n",
              "      const reader = new FileReader();\n",
              "      reader.onload = (e) => {\n",
              "        resolve(e.target.result);\n",
              "      };\n",
              "      reader.readAsArrayBuffer(file);\n",
              "    });\n",
              "    // Wait for the data to be ready.\n",
              "    let fileData = yield {\n",
              "      promise: fileDataPromise,\n",
              "      response: {\n",
              "        action: 'continue',\n",
              "      }\n",
              "    };\n",
              "\n",
              "    // Use a chunked sending to avoid message size limits. See b/62115660.\n",
              "    let position = 0;\n",
              "    do {\n",
              "      const length = Math.min(fileData.byteLength - position, MAX_PAYLOAD_SIZE);\n",
              "      const chunk = new Uint8Array(fileData, position, length);\n",
              "      position += length;\n",
              "\n",
              "      const base64 = btoa(String.fromCharCode.apply(null, chunk));\n",
              "      yield {\n",
              "        response: {\n",
              "          action: 'append',\n",
              "          file: file.name,\n",
              "          data: base64,\n",
              "        },\n",
              "      };\n",
              "\n",
              "      let percentDone = fileData.byteLength === 0 ?\n",
              "          100 :\n",
              "          Math.round((position / fileData.byteLength) * 100);\n",
              "      percent.textContent = `${percentDone}% done`;\n",
              "\n",
              "    } while (position < fileData.byteLength);\n",
              "  }\n",
              "\n",
              "  // All done.\n",
              "  yield {\n",
              "    response: {\n",
              "      action: 'complete',\n",
              "    }\n",
              "  };\n",
              "}\n",
              "\n",
              "scope.google = scope.google || {};\n",
              "scope.google.colab = scope.google.colab || {};\n",
              "scope.google.colab._files = {\n",
              "  _uploadFiles,\n",
              "  _uploadFilesContinue,\n",
              "};\n",
              "})(self);\n",
              "</script> "
            ],
            "text/plain": [
              "<IPython.core.display.HTML object>"
            ]
          },
          "metadata": {},
          "output_type": "display_data"
        },
        {
          "name": "stdout",
          "output_type": "stream",
          "text": [
            "Saving Intuit MSA.pdf to Intuit MSA (5).pdf\n",
            "Uploaded document: Intuit MSA (5).pdf\n",
            "\n",
            "Please upload your CSV file with questions and ground truth answers\n"
          ]
        },
        {
          "data": {
            "text/html": [
              "\n",
              "     <input type=\"file\" id=\"files-3f428656-7577-4dbf-b9d6-a72c1a149321\" name=\"files[]\" multiple disabled\n",
              "        style=\"border:none\" />\n",
              "     <output id=\"result-3f428656-7577-4dbf-b9d6-a72c1a149321\">\n",
              "      Upload widget is only available when the cell has been executed in the\n",
              "      current browser session. Please rerun this cell to enable.\n",
              "      </output>\n",
              "      <script>// Copyright 2017 Google LLC\n",
              "//\n",
              "// Licensed under the Apache License, Version 2.0 (the \"License\");\n",
              "// you may not use this file except in compliance with the License.\n",
              "// You may obtain a copy of the License at\n",
              "//\n",
              "//      http://www.apache.org/licenses/LICENSE-2.0\n",
              "//\n",
              "// Unless required by applicable law or agreed to in writing, software\n",
              "// distributed under the License is distributed on an \"AS IS\" BASIS,\n",
              "// WITHOUT WARRANTIES OR CONDITIONS OF ANY KIND, either express or implied.\n",
              "// See the License for the specific language governing permissions and\n",
              "// limitations under the License.\n",
              "\n",
              "/**\n",
              " * @fileoverview Helpers for google.colab Python module.\n",
              " */\n",
              "(function(scope) {\n",
              "function span(text, styleAttributes = {}) {\n",
              "  const element = document.createElement('span');\n",
              "  element.textContent = text;\n",
              "  for (const key of Object.keys(styleAttributes)) {\n",
              "    element.style[key] = styleAttributes[key];\n",
              "  }\n",
              "  return element;\n",
              "}\n",
              "\n",
              "// Max number of bytes which will be uploaded at a time.\n",
              "const MAX_PAYLOAD_SIZE = 100 * 1024;\n",
              "\n",
              "function _uploadFiles(inputId, outputId) {\n",
              "  const steps = uploadFilesStep(inputId, outputId);\n",
              "  const outputElement = document.getElementById(outputId);\n",
              "  // Cache steps on the outputElement to make it available for the next call\n",
              "  // to uploadFilesContinue from Python.\n",
              "  outputElement.steps = steps;\n",
              "\n",
              "  return _uploadFilesContinue(outputId);\n",
              "}\n",
              "\n",
              "// This is roughly an async generator (not supported in the browser yet),\n",
              "// where there are multiple asynchronous steps and the Python side is going\n",
              "// to poll for completion of each step.\n",
              "// This uses a Promise to block the python side on completion of each step,\n",
              "// then passes the result of the previous step as the input to the next step.\n",
              "function _uploadFilesContinue(outputId) {\n",
              "  const outputElement = document.getElementById(outputId);\n",
              "  const steps = outputElement.steps;\n",
              "\n",
              "  const next = steps.next(outputElement.lastPromiseValue);\n",
              "  return Promise.resolve(next.value.promise).then((value) => {\n",
              "    // Cache the last promise value to make it available to the next\n",
              "    // step of the generator.\n",
              "    outputElement.lastPromiseValue = value;\n",
              "    return next.value.response;\n",
              "  });\n",
              "}\n",
              "\n",
              "/**\n",
              " * Generator function which is called between each async step of the upload\n",
              " * process.\n",
              " * @param {string} inputId Element ID of the input file picker element.\n",
              " * @param {string} outputId Element ID of the output display.\n",
              " * @return {!Iterable<!Object>} Iterable of next steps.\n",
              " */\n",
              "function* uploadFilesStep(inputId, outputId) {\n",
              "  const inputElement = document.getElementById(inputId);\n",
              "  inputElement.disabled = false;\n",
              "\n",
              "  const outputElement = document.getElementById(outputId);\n",
              "  outputElement.innerHTML = '';\n",
              "\n",
              "  const pickedPromise = new Promise((resolve) => {\n",
              "    inputElement.addEventListener('change', (e) => {\n",
              "      resolve(e.target.files);\n",
              "    });\n",
              "  });\n",
              "\n",
              "  const cancel = document.createElement('button');\n",
              "  inputElement.parentElement.appendChild(cancel);\n",
              "  cancel.textContent = 'Cancel upload';\n",
              "  const cancelPromise = new Promise((resolve) => {\n",
              "    cancel.onclick = () => {\n",
              "      resolve(null);\n",
              "    };\n",
              "  });\n",
              "\n",
              "  // Wait for the user to pick the files.\n",
              "  const files = yield {\n",
              "    promise: Promise.race([pickedPromise, cancelPromise]),\n",
              "    response: {\n",
              "      action: 'starting',\n",
              "    }\n",
              "  };\n",
              "\n",
              "  cancel.remove();\n",
              "\n",
              "  // Disable the input element since further picks are not allowed.\n",
              "  inputElement.disabled = true;\n",
              "\n",
              "  if (!files) {\n",
              "    return {\n",
              "      response: {\n",
              "        action: 'complete',\n",
              "      }\n",
              "    };\n",
              "  }\n",
              "\n",
              "  for (const file of files) {\n",
              "    const li = document.createElement('li');\n",
              "    li.append(span(file.name, {fontWeight: 'bold'}));\n",
              "    li.append(span(\n",
              "        `(${file.type || 'n/a'}) - ${file.size} bytes, ` +\n",
              "        `last modified: ${\n",
              "            file.lastModifiedDate ? file.lastModifiedDate.toLocaleDateString() :\n",
              "                                    'n/a'} - `));\n",
              "    const percent = span('0% done');\n",
              "    li.appendChild(percent);\n",
              "\n",
              "    outputElement.appendChild(li);\n",
              "\n",
              "    const fileDataPromise = new Promise((resolve) => {\n",
              "      const reader = new FileReader();\n",
              "      reader.onload = (e) => {\n",
              "        resolve(e.target.result);\n",
              "      };\n",
              "      reader.readAsArrayBuffer(file);\n",
              "    });\n",
              "    // Wait for the data to be ready.\n",
              "    let fileData = yield {\n",
              "      promise: fileDataPromise,\n",
              "      response: {\n",
              "        action: 'continue',\n",
              "      }\n",
              "    };\n",
              "\n",
              "    // Use a chunked sending to avoid message size limits. See b/62115660.\n",
              "    let position = 0;\n",
              "    do {\n",
              "      const length = Math.min(fileData.byteLength - position, MAX_PAYLOAD_SIZE);\n",
              "      const chunk = new Uint8Array(fileData, position, length);\n",
              "      position += length;\n",
              "\n",
              "      const base64 = btoa(String.fromCharCode.apply(null, chunk));\n",
              "      yield {\n",
              "        response: {\n",
              "          action: 'append',\n",
              "          file: file.name,\n",
              "          data: base64,\n",
              "        },\n",
              "      };\n",
              "\n",
              "      let percentDone = fileData.byteLength === 0 ?\n",
              "          100 :\n",
              "          Math.round((position / fileData.byteLength) * 100);\n",
              "      percent.textContent = `${percentDone}% done`;\n",
              "\n",
              "    } while (position < fileData.byteLength);\n",
              "  }\n",
              "\n",
              "  // All done.\n",
              "  yield {\n",
              "    response: {\n",
              "      action: 'complete',\n",
              "    }\n",
              "  };\n",
              "}\n",
              "\n",
              "scope.google = scope.google || {};\n",
              "scope.google.colab = scope.google.colab || {};\n",
              "scope.google.colab._files = {\n",
              "  _uploadFiles,\n",
              "  _uploadFilesContinue,\n",
              "};\n",
              "})(self);\n",
              "</script> "
            ],
            "text/plain": [
              "<IPython.core.display.HTML object>"
            ]
          },
          "metadata": {},
          "output_type": "display_data"
        },
        {
          "name": "stdout",
          "output_type": "stream",
          "text": [
            "Saving Key term name, questions and benchmarked data - Sample.csv to Key term name, questions and benchmarked data - Sample (5).csv\n",
            "Uploaded CSV: Key term name, questions and benchmarked data - Sample (5).csv\n"
          ]
        }
      ],
      "source": [
        "# Cell 9 - Style the dataframe\n",
        "def color_evaluation(val):\n",
        "    if 'Yes' in val and 'No' in val:\n",
        "        return 'background-color: green'\n",
        "    elif 'Yes' in val:\n",
        "        return 'background-color: lightgreen'\n",
        "    else:\n",
        "        return 'background-color: lightcoral'\n",
        "\n",
        "def style_results_df(results_df):\n",
        "    # Indented block for the function body\n",
        "    # Add your styling logic here\n",
        "    # Example:\n",
        "    # styled_df = results_df.style.applymap(color_evaluation, subset=['Specific Problem Addressing', 'Conciseness'])\n",
        "    # return styled_df  # or display(styled_df) directly\n",
        "    pass  # Add this line to fix the indentation error\n",
        "\n",
        "# UI for document and questions CSV upload\n",
        "print(\"Please upload your document (PDF, DOCX, or TXT)\")\n",
        "uploaded_document = files.upload()\n",
        "document_file_path = list(uploaded_document.keys())[0]\n",
        "print(f\"Uploaded document: {document_file_path}\")\n",
        "\n",
        "print(\"\\nPlease upload your CSV file with questions and ground truth answers\")\n",
        "uploaded_csv = files.upload()\n",
        "questions_csv_path = list(uploaded_csv.keys())[0]\n",
        "print(f\"Uploaded CSV: {questions_csv_path}\")\n",
        "\n",
        "# Process button\n",
        "process_button = widgets.Button(\n",
        "    description='Process All Questions',\n",
        "    disabled=False,\n",
        "    button_style='success',\n",
        "    tooltip='Click to process all questions in CSV',\n",
        "    icon='check'\n",
        ")\n",
        "\n",
        "result_output = widgets.Output()"
      ]
    },
    {
      "cell_type": "markdown",
      "metadata": {
        "id": "r5zurUz_gNDK"
      },
      "source": [
        " Document QA Processing Function\n",
        "\n",
        "## `on_process_clicked(b)`\n",
        "\n",
        "### Workflow Steps\n",
        "1. Clears previous outputs\n",
        "2. Processes all questions via `process_csv_questions()`\n",
        "3. Formats results using `display_results_table()`\n",
        "4. Displays interactive DataFrame\n",
        "5. Auto-saves to \"document_qa_results.csv\"\n",
        "6. Provides status updates throughout"
      ]
    },
    {
      "cell_type": "code",
      "execution_count": 43,
      "metadata": {
        "id": "TFLHODT3dQIA"
      },
      "outputs": [],
      "source": [
        "# Cell 10 - Process function\n",
        "def on_process_clicked(b):\n",
        "    with result_output:\n",
        "        clear_output()\n",
        "        print(\"Processing all questions... Please wait.\")\n",
        "\n",
        "        try:\n",
        "            # Process all questions\n",
        "            results = process_csv_questions(document_file_path, questions_csv_path)\n",
        "\n",
        "            # Display results\n",
        "            results_df = display_results_table(results)\n",
        "\n",
        "            print(\"\\n--- Results ---\")\n",
        "            display(results_df)\n",
        "\n",
        "            # Also save results to CSV\n",
        "            output_filename = \"document_qa_results.csv\"\n",
        "            results_df.to_csv(output_filename, index=False)\n",
        "            print(f\"\\nResults saved to {output_filename}\")\n",
        "\n",
        "        except Exception as e:\n",
        "            print(f\"Error processing questions: {str(e)}\")\n",
        "\n",
        "# Attach event handler\n",
        "process_button.on_click(on_process_clicked)\n"
      ]
    },
    {
      "cell_type": "code",
      "execution_count": 44,
      "metadata": {
        "colab": {
          "base_uri": "https://localhost:8080/",
          "height": 1000,
          "referenced_widgets": [
            "941caaa0df61471599441b11a44852a6",
            "1605cf99a6fe44da93c8326860cf381c",
            "b6eb3ba598bb4f42a9bd4f6e4eb3135e",
            "88d5c4182943404ca672ca7fdd91a209",
            "078f7f038d8e4d02bf7a1597129b0552"
          ]
        },
        "id": "sPXGJS2KkgSC",
        "outputId": "1cdd946e-8a44-433c-d09c-6548e9172eef"
      },
      "outputs": [
        {
          "data": {
            "application/vnd.jupyter.widget-view+json": {
              "model_id": "941caaa0df61471599441b11a44852a6",
              "version_major": 2,
              "version_minor": 0
            },
            "text/plain": [
              "Button(button_style='success', description='Process All Questions', icon='check', style=ButtonStyle(), tooltip…"
            ]
          },
          "metadata": {},
          "output_type": "display_data"
        },
        {
          "data": {
            "application/vnd.jupyter.widget-view+json": {
              "model_id": "88d5c4182943404ca672ca7fdd91a209",
              "version_major": 2,
              "version_minor": 0
            },
            "text/plain": [
              "Output()"
            ]
          },
          "metadata": {},
          "output_type": "display_data"
        }
      ],
      "source": [
        "# Cell 11 - Display the button and output area\n",
        "display(process_button)\n",
        "display(result_output)"
      ]
    }
  ],
  "metadata": {
    "accelerator": "GPU",
    "colab": {
      "gpuType": "T4",
      "provenance": []
    },
    "kernelspec": {
      "display_name": "Python 3",
      "name": "python3"
    },
    "language_info": {
      "name": "python"
    },
    "widgets": {
      "application/vnd.jupyter.widget-state+json": {
        "078f7f038d8e4d02bf7a1597129b0552": {
          "model_module": "@jupyter-widgets/base",
          "model_module_version": "1.2.0",
          "model_name": "LayoutModel",
          "state": {
            "_model_module": "@jupyter-widgets/base",
            "_model_module_version": "1.2.0",
            "_model_name": "LayoutModel",
            "_view_count": null,
            "_view_module": "@jupyter-widgets/base",
            "_view_module_version": "1.2.0",
            "_view_name": "LayoutView",
            "align_content": null,
            "align_items": null,
            "align_self": null,
            "border": null,
            "bottom": null,
            "display": null,
            "flex": null,
            "flex_flow": null,
            "grid_area": null,
            "grid_auto_columns": null,
            "grid_auto_flow": null,
            "grid_auto_rows": null,
            "grid_column": null,
            "grid_gap": null,
            "grid_row": null,
            "grid_template_areas": null,
            "grid_template_columns": null,
            "grid_template_rows": null,
            "height": null,
            "justify_content": null,
            "justify_items": null,
            "left": null,
            "margin": null,
            "max_height": null,
            "max_width": null,
            "min_height": null,
            "min_width": null,
            "object_fit": null,
            "object_position": null,
            "order": null,
            "overflow": null,
            "overflow_x": null,
            "overflow_y": null,
            "padding": null,
            "right": null,
            "top": null,
            "visibility": null,
            "width": null
          }
        },
        "1605cf99a6fe44da93c8326860cf381c": {
          "model_module": "@jupyter-widgets/base",
          "model_module_version": "1.2.0",
          "model_name": "LayoutModel",
          "state": {
            "_model_module": "@jupyter-widgets/base",
            "_model_module_version": "1.2.0",
            "_model_name": "LayoutModel",
            "_view_count": null,
            "_view_module": "@jupyter-widgets/base",
            "_view_module_version": "1.2.0",
            "_view_name": "LayoutView",
            "align_content": null,
            "align_items": null,
            "align_self": null,
            "border": null,
            "bottom": null,
            "display": null,
            "flex": null,
            "flex_flow": null,
            "grid_area": null,
            "grid_auto_columns": null,
            "grid_auto_flow": null,
            "grid_auto_rows": null,
            "grid_column": null,
            "grid_gap": null,
            "grid_row": null,
            "grid_template_areas": null,
            "grid_template_columns": null,
            "grid_template_rows": null,
            "height": null,
            "justify_content": null,
            "justify_items": null,
            "left": null,
            "margin": null,
            "max_height": null,
            "max_width": null,
            "min_height": null,
            "min_width": null,
            "object_fit": null,
            "object_position": null,
            "order": null,
            "overflow": null,
            "overflow_x": null,
            "overflow_y": null,
            "padding": null,
            "right": null,
            "top": null,
            "visibility": null,
            "width": null
          }
        },
        "88d5c4182943404ca672ca7fdd91a209": {
          "model_module": "@jupyter-widgets/output",
          "model_module_version": "1.0.0",
          "model_name": "OutputModel",
          "state": {
            "_dom_classes": [],
            "_model_module": "@jupyter-widgets/output",
            "_model_module_version": "1.0.0",
            "_model_name": "OutputModel",
            "_view_count": null,
            "_view_module": "@jupyter-widgets/output",
            "_view_module_version": "1.0.0",
            "_view_name": "OutputView",
            "layout": "IPY_MODEL_078f7f038d8e4d02bf7a1597129b0552",
            "msg_id": "",
            "outputs": [
              {
                "name": "stdout",
                "output_type": "stream",
                "text": [
                  "Processing all questions... Please wait.\n"
                ]
              },
              {
                "name": "stdout",
                "output_type": "stream",
                "text": [
                  "Processing question 1/36: What is the Service Provider Name...\n"
                ]
              },
              {
                "name": "stdout",
                "output_type": "stream",
                "text": [
                  "Processing question 2/36: What is the Customer Name?...\n"
                ]
              },
              {
                "name": "stdout",
                "output_type": "stream",
                "text": [
                  "Processing question 3/36: What is the Contract start date?...\n"
                ]
              },
              {
                "name": "stdout",
                "output_type": "stream",
                "text": [
                  "Processing question 4/36: what is the Contract end date / Expiration Date?...\n"
                ]
              },
              {
                "name": "stdout",
                "output_type": "stream",
                "text": [
                  "Processing question 5/36: What is the total term period or duration of this ...\n"
                ]
              },
              {
                "name": "stdout",
                "output_type": "stream",
                "text": [
                  "Processing question 6/36: What is the total amount to be paid by the custome...\n"
                ]
              },
              {
                "name": "stdout",
                "output_type": "stream",
                "text": [
                  "Processing question 7/36: What is the Governing Law? Provide just the name o...\n"
                ]
              },
              {
                "name": "stdout",
                "output_type": "stream",
                "text": [
                  "Processing question 8/36: Will this agreement Automatically Renew? Answer Ye...\n"
                ]
              },
              {
                "name": "stdout",
                "output_type": "stream",
                "text": [
                  "Processing question 9/36: What is the duration before which either party may...\n"
                ]
              },
              {
                "name": "stdout",
                "output_type": "stream",
                "text": [
                  "Processing question 10/36: What is the duration of Data Breach Notice? Provid...\n"
                ]
              },
              {
                "name": "stdout",
                "output_type": "stream",
                "text": [
                  "Processing question 11/36: What is the billing frequency of this agreement?...\n"
                ]
              },
              {
                "name": "stdout",
                "output_type": "stream",
                "text": [
                  "Processing question 12/36: What is the renewal period for this contract?...\n"
                ]
              },
              {
                "name": "stdout",
                "output_type": "stream",
                "text": [
                  "Processing question 13/36: Do customer has to send a notice to stop the auto ...\n"
                ]
              },
              {
                "name": "stdout",
                "output_type": "stream",
                "text": [
                  "Processing question 14/36: What are the number of days within which the clien...\n"
                ]
              },
              {
                "name": "stdout",
                "output_type": "stream",
                "text": [
                  "Processing question 15/36: Does this contract allows for termination for mate...\n"
                ]
              },
              {
                "name": "stdout",
                "output_type": "stream",
                "text": [
                  "Processing question 16/36: Does this contract allows for termination for caus...\n"
                ]
              },
              {
                "name": "stdout",
                "output_type": "stream",
                "text": [
                  "Processing question 17/36: Does this contract allows for termination without ...\n"
                ]
              },
              {
                "name": "stdout",
                "output_type": "stream",
                "text": [
                  "Processing question 18/36: Does this contract allows for termination for conv...\n"
                ]
              },
              {
                "name": "stdout",
                "output_type": "stream",
                "text": [
                  "Processing question 19/36: What is the duration of notice period that each pa...\n"
                ]
              },
              {
                "name": "stdout",
                "output_type": "stream",
                "text": [
                  "Processing question 20/36: Do customer need to pay charges or pentalties for ...\n"
                ]
              },
              {
                "name": "stdout",
                "output_type": "stream",
                "text": [
                  "Processing question 21/36: How are the late payment pentalties or fees charge...\n"
                ]
              },
              {
                "name": "stdout",
                "output_type": "stream",
                "text": [
                  "Processing question 22/36: What is the amount covered in the clause for limit...\n"
                ]
              },
              {
                "name": "stdout",
                "output_type": "stream",
                "text": [
                  "Processing question 23/36: Do customer needs to provide consent to the servic...\n"
                ]
              },
              {
                "name": "stdout",
                "output_type": "stream",
                "text": [
                  "Processing question 24/36: Does this contract allows the service provider to ...\n"
                ]
              },
              {
                "name": "stdout",
                "output_type": "stream",
                "text": [
                  "Processing question 25/36: Does this contract has a provision that mentions t...\n"
                ]
              },
              {
                "name": "stdout",
                "output_type": "stream",
                "text": [
                  "Processing question 26/36: What are the terms for customer indemnification?...\n"
                ]
              },
              {
                "name": "stdout",
                "output_type": "stream",
                "text": [
                  "Processing question 27/36: What are the terms for service provider indemnific...\n"
                ]
              },
              {
                "name": "stdout",
                "output_type": "stream",
                "text": [
                  "Processing question 28/36: Do customer or client needs to send a notice for c...\n"
                ]
              },
              {
                "name": "stdout",
                "output_type": "stream",
                "text": [
                  "Processing question 29/36: Does this contract's indimnification terms cover t...\n"
                ]
              },
              {
                "name": "stdout",
                "output_type": "stream",
                "text": [
                  "Processing question 30/36: Does this contract has provision for increase the ...\n"
                ]
              },
              {
                "name": "stdout",
                "output_type": "stream",
                "text": [
                  "Processing question 31/36: What is the duration of notice for notifying custo...\n"
                ]
              },
              {
                "name": "stdout",
                "output_type": "stream",
                "text": [
                  "Processing question 32/36: What is the insurance clause according to this agr...\n"
                ]
              },
              {
                "name": "stdout",
                "output_type": "stream",
                "text": [
                  "Processing question 33/36: What is the provision for maintainance of insuranc...\n"
                ]
              },
              {
                "name": "stdout",
                "output_type": "stream",
                "text": [
                  "Processing question 34/36: What is the notice period for providing the insura...\n"
                ]
              },
              {
                "name": "stdout",
                "output_type": "stream",
                "text": [
                  "Processing question 35/36: What are the intellectual property rights for the ...\n"
                ]
              },
              {
                "name": "stdout",
                "output_type": "stream",
                "text": [
                  "Processing question 36/36: What are the intellectual property rights for cust...\n"
                ]
              },
              {
                "name": "stdout",
                "output_type": "stream",
                "text": [
                  "\n",
                  "--- Results ---\n"
                ]
              },
              {
                "data": {
                  "application/vnd.google.colaboratory.intrinsic+json": {
                    "summary": "{\n  \"name\": \"display(result_output)\",\n  \"rows\": 36,\n  \"fields\": [\n    {\n      \"column\": \"Question\",\n      \"properties\": {\n        \"dtype\": \"string\",\n        \"num_unique_values\": 36,\n        \"samples\": [\n          \"What are the intellectual property rights for customer in this agreement?\",\n          \"What are the number of days within which the client is expected to make payment to the service provider after receiving an invoice?\",\n          \"What are the terms for service provider indemnification?\"\n        ],\n        \"semantic_type\": \"\",\n        \"description\": \"\"\n      }\n    },\n    {\n      \"column\": \"Ground Truth\",\n      \"properties\": {\n        \"dtype\": \"string\",\n        \"num_unique_values\": 19,\n        \"samples\": [\n          \"Arvato Services Inc.\",\n          \"State of California\",\n          \"$5,000,000 or amounts paid by Intuit to Contractor in the past 12 months\"\n        ],\n        \"semantic_type\": \"\",\n        \"description\": \"\"\n      }\n    },\n    {\n      \"column\": \"LLM Response\",\n      \"properties\": {\n        \"dtype\": \"string\",\n        \"num_unique_values\": 36,\n        \"samples\": [\n          \"Based on the provided document, the intellectual property rights for the customer (Intuit) are not explicitly outlined in this section of the agreement. The document primarily focuses on establishing the independent contractor relationship between Intuit and Contractor, defining the services to be provided, and outlining the terms and conditions of the agreement. \\n\\nTo determine the specific intellectual property rights for the customer (Intuit), it would be necessary to review other sections of the agreement, such as those related to intellectual property ownership, confidentiality, or any additional terms specified in the Statements of Work referenced in the agreement.\",\n          \"The number of days within which the client is expected to make payment to the service provider after receiving an invoice is not explicitly stated in the provided document. The payment terms, including the payment schedule and due dates, are typically specified in each individual Statement of Work (SOW) that is agreed upon between Intuit and Contractor. The SOW will outline the applicable fees, discounts, and payment terms for the services provided.\",\n          \"The terms for service provider indemnification are not explicitly mentioned in the provided excerpt of the Intuit Master Services Agreement. The document primarily focuses on establishing the independent contractor relationship between Intuit and the Contractor, as well as outlining the scope of services, obligations, and responsibilities of both parties. For specific details regarding service provider indemnification, it would be necessary to refer to other sections or clauses within the full agreement document.\"\n        ],\n        \"semantic_type\": \"\",\n        \"description\": \"\"\n      }\n    },\n    {\n      \"column\": \"Is the response addressing the specific problem (e.g., contract clause details)?\",\n      \"properties\": {\n        \"dtype\": \"category\",\n        \"num_unique_values\": 3,\n        \"samples\": [\n          \"Yes\",\n          \"No\",\n          \"N/A\"\n        ],\n        \"semantic_type\": \"\",\n        \"description\": \"\"\n      }\n    },\n    {\n      \"column\": \"Is the response concise and to the point?\",\n      \"properties\": {\n        \"dtype\": \"category\",\n        \"num_unique_values\": 3,\n        \"samples\": [\n          \"Yes\",\n          \"No\",\n          \"N/A\"\n        ],\n        \"semantic_type\": \"\",\n        \"description\": \"\"\n      }\n    },\n    {\n      \"column\": \"Does the response include key information (e.g., liability amount)?\",\n      \"properties\": {\n        \"dtype\": \"category\",\n        \"num_unique_values\": 3,\n        \"samples\": [\n          \"Yes\",\n          \"No\",\n          \"N/A\"\n        ],\n        \"semantic_type\": \"\",\n        \"description\": \"\"\n      }\n    },\n    {\n      \"column\": \"Did the model fabricate the answer or provide false information?\",\n      \"properties\": {\n        \"dtype\": \"category\",\n        \"num_unique_values\": 3,\n        \"samples\": [\n          \"No\",\n          \"N/A\",\n          \"Yes\"\n        ],\n        \"semantic_type\": \"\",\n        \"description\": \"\"\n      }\n    },\n    {\n      \"column\": \"Is the cited source correct and verifiable?\",\n      \"properties\": {\n        \"dtype\": \"category\",\n        \"num_unique_values\": 3,\n        \"samples\": [\n          \"Yes\",\n          \"No\",\n          \"N/A\"\n        ],\n        \"semantic_type\": \"\",\n        \"description\": \"\"\n      }\n    },\n    {\n      \"column\": \"Are the cited links/quotes valid?\",\n      \"properties\": {\n        \"dtype\": \"category\",\n        \"num_unique_values\": 3,\n        \"samples\": [\n          \"No\",\n          \"N/A\",\n          \"Yes\"\n        ],\n        \"semantic_type\": \"\",\n        \"description\": \"\"\n      }\n    },\n    {\n      \"column\": \"Does the response contain harmful content (e.g., hate speech, profanity, abuse, etc.)?\",\n      \"properties\": {\n        \"dtype\": \"category\",\n        \"num_unique_values\": 2,\n        \"samples\": [\n          \"N/A\",\n          \"No\"\n        ],\n        \"semantic_type\": \"\",\n        \"description\": \"\"\n      }\n    },\n    {\n      \"column\": \"Does the response solicit personal information?\",\n      \"properties\": {\n        \"dtype\": \"category\",\n        \"num_unique_values\": 2,\n        \"samples\": [\n          \"N/A\",\n          \"No\"\n        ],\n        \"semantic_type\": \"\",\n        \"description\": \"\"\n      }\n    },\n    {\n      \"column\": \"Does the response reveal internal company information or encourage harmful actions?\",\n      \"properties\": {\n        \"dtype\": \"category\",\n        \"num_unique_values\": 2,\n        \"samples\": [\n          \"N/A\",\n          \"No\"\n        ],\n        \"semantic_type\": \"\",\n        \"description\": \"\"\n      }\n    },\n    {\n      \"column\": \"Does the response share negative aspects of the company or its products?\",\n      \"properties\": {\n        \"dtype\": \"category\",\n        \"num_unique_values\": 3,\n        \"samples\": [\n          \"No\",\n          \"N/A\"\n        ],\n        \"semantic_type\": \"\",\n        \"description\": \"\"\n      }\n    }\n  ]\n}",
                    "type": "dataframe"
                  },
                  "text/html": "\n  <div id=\"df-552b3a60-a593-456e-8ec9-0be4df25b6c3\" class=\"colab-df-container\">\n    <div>\n<style scoped>\n    .dataframe tbody tr th:only-of-type {\n        vertical-align: middle;\n    }\n\n    .dataframe tbody tr th {\n        vertical-align: top;\n    }\n\n    .dataframe thead th {\n        text-align: right;\n    }\n</style>\n<table border=\"1\" class=\"dataframe\">\n  <thead>\n    <tr style=\"text-align: right;\">\n      <th></th>\n      <th>Question</th>\n      <th>Ground Truth</th>\n      <th>LLM Response</th>\n      <th>Is the response addressing the specific problem (e.g., contract clause details)?</th>\n      <th>Is the response concise and to the point?</th>\n      <th>Does the response include key information (e.g., liability amount)?</th>\n      <th>Did the model fabricate the answer or provide false information?</th>\n      <th>Is the cited source correct and verifiable?</th>\n      <th>Are the cited links/quotes valid?</th>\n      <th>Does the response contain harmful content (e.g., hate speech, profanity, abuse, etc.)?</th>\n      <th>Does the response solicit personal information?</th>\n      <th>Does the response reveal internal company information or encourage harmful actions?</th>\n      <th>Does the response share negative aspects of the company or its products?</th>\n    </tr>\n  </thead>\n  <tbody>\n    <tr>\n      <th>0</th>\n      <td>What is the Service Provider Name</td>\n      <td>Arvato Services Inc.</td>\n      <td>The Service Provider Name is Arvato Services, ...</td>\n      <td>Yes</td>\n      <td>Yes</td>\n      <td>Yes</td>\n      <td>No</td>\n      <td>Yes</td>\n      <td>No</td>\n      <td>No</td>\n      <td>No</td>\n      <td>No</td>\n      <td>No</td>\n    </tr>\n    <tr>\n      <th>1</th>\n      <td>What is the Customer Name?</td>\n      <td>Intuit Inc.</td>\n      <td>The Customer Name is not explicitly mentioned ...</td>\n      <td>No</td>\n      <td>Yes</td>\n      <td>No</td>\n      <td>No</td>\n      <td>No</td>\n      <td>No</td>\n      <td>No</td>\n      <td>No</td>\n      <td>No</td>\n      <td>No</td>\n    </tr>\n    <tr>\n      <th>2</th>\n      <td>What is the Contract start date?</td>\n      <td>28-May-03</td>\n      <td>The contract start date is the date of the lat...</td>\n      <td>Yes</td>\n      <td>Yes</td>\n      <td>Yes</td>\n      <td>No</td>\n      <td>Yes</td>\n      <td>No</td>\n      <td>No</td>\n      <td>No</td>\n      <td>No</td>\n      <td>No</td>\n    </tr>\n    <tr>\n      <th>3</th>\n      <td>what is the Contract end date / Expiration Date?</td>\n      <td>28-May-06</td>\n      <td>The contract end date or expiration date is no...</td>\n      <td>No</td>\n      <td>Yes</td>\n      <td>No</td>\n      <td>No</td>\n      <td>No</td>\n      <td>No</td>\n      <td>No</td>\n      <td>No</td>\n      <td>No</td>\n      <td>No</td>\n    </tr>\n    <tr>\n      <th>4</th>\n      <td>What is the total term period or duration of t...</td>\n      <td>Mentioned 3years means (3*12)=36 Months</td>\n      <td>The total term period or duration of this cont...</td>\n      <td>No</td>\n      <td>No</td>\n      <td>No</td>\n      <td>No</td>\n      <td>No</td>\n      <td>No</td>\n      <td>No</td>\n      <td>No</td>\n      <td>No</td>\n      <td>No</td>\n    </tr>\n    <tr>\n      <th>5</th>\n      <td>What is the total amount to be paid by the cus...</td>\n      <td>NaN</td>\n      <td>The total amount to be paid by the customer wi...</td>\n      <td>No</td>\n      <td>Yes</td>\n      <td>Yes</td>\n      <td>No</td>\n      <td>No</td>\n      <td>No</td>\n      <td>No</td>\n      <td>No</td>\n      <td>No</td>\n      <td>No</td>\n    </tr>\n    <tr>\n      <th>6</th>\n      <td>What is the Governing Law? Provide just the na...</td>\n      <td>State of California</td>\n      <td>The governing law is the State of California.</td>\n      <td>Yes</td>\n      <td>Yes</td>\n      <td>Yes</td>\n      <td>No</td>\n      <td>No</td>\n      <td>No</td>\n      <td>No</td>\n      <td>No</td>\n      <td>No</td>\n      <td>No</td>\n    </tr>\n    <tr>\n      <th>7</th>\n      <td>Will this agreement Automatically Renew? Answe...</td>\n      <td>No</td>\n      <td>No</td>\n      <td>N/A</td>\n      <td>N/A</td>\n      <td>N/A</td>\n      <td>N/A</td>\n      <td>N/A</td>\n      <td>N/A</td>\n      <td>N/A</td>\n      <td>N/A</td>\n      <td>N/A</td>\n      <td>N/A</td>\n    </tr>\n    <tr>\n      <th>8</th>\n      <td>What is the duration before which either party...</td>\n      <td>20 days</td>\n      <td>The Agreement does not specify a specific dura...</td>\n      <td>No</td>\n      <td>Yes</td>\n      <td>No</td>\n      <td>No</td>\n      <td>No</td>\n      <td>No</td>\n      <td>No</td>\n      <td>No</td>\n      <td>No</td>\n      <td>No</td>\n    </tr>\n    <tr>\n      <th>9</th>\n      <td>What is the duration of Data Breach Notice? Pr...</td>\n      <td>NaN</td>\n      <td>The duration of the Data Breach Notice is not ...</td>\n      <td>Yes</td>\n      <td>Yes</td>\n      <td>No</td>\n      <td>No</td>\n      <td>No</td>\n      <td>No</td>\n      <td>No</td>\n      <td>No</td>\n      <td>No</td>\n      <td>No</td>\n    </tr>\n    <tr>\n      <th>10</th>\n      <td>What is the billing frequency of this agreement?</td>\n      <td>Monthly</td>\n      <td>The billing frequency for this agreement is no...</td>\n      <td>No</td>\n      <td>Yes</td>\n      <td>No</td>\n      <td>No</td>\n      <td>No</td>\n      <td>No</td>\n      <td>No</td>\n      <td>No</td>\n      <td>No</td>\n      <td>No</td>\n    </tr>\n    <tr>\n      <th>11</th>\n      <td>What is the renewal period for this contract?</td>\n      <td>NaN</td>\n      <td>The document provided does not specify a renew...</td>\n      <td>No</td>\n      <td>Yes</td>\n      <td>No</td>\n      <td>No</td>\n      <td>Yes</td>\n      <td>Yes</td>\n      <td>No</td>\n      <td>No</td>\n      <td>No</td>\n      <td>No</td>\n    </tr>\n    <tr>\n      <th>12</th>\n      <td>Do customer has to send a notice to stop the a...</td>\n      <td>NaN</td>\n      <td>Based on the provided document, there is no sp...</td>\n      <td>No</td>\n      <td>Yes</td>\n      <td>No</td>\n      <td>No</td>\n      <td>Yes</td>\n      <td>Yes</td>\n      <td>No</td>\n      <td>No</td>\n      <td>No</td>\n      <td>No</td>\n    </tr>\n    <tr>\n      <th>13</th>\n      <td>What are the number of days within which the c...</td>\n      <td>Net 20</td>\n      <td>The number of days within which the client is ...</td>\n      <td>No</td>\n      <td>No</td>\n      <td>No</td>\n      <td>No</td>\n      <td>No</td>\n      <td>No</td>\n      <td>No</td>\n      <td>No</td>\n      <td>No</td>\n      <td>No</td>\n    </tr>\n    <tr>\n      <th>14</th>\n      <td>Does this contract allows for termination for ...</td>\n      <td>Yes</td>\n      <td>The provided excerpt does not explicitly menti...</td>\n      <td>No</td>\n      <td>Yes</td>\n      <td>No</td>\n      <td>No</td>\n      <td>No</td>\n      <td>No</td>\n      <td>No</td>\n      <td>No</td>\n      <td>No</td>\n      <td>No</td>\n    </tr>\n    <tr>\n      <th>15</th>\n      <td>Does this contract allows for termination for ...</td>\n      <td>Yes</td>\n      <td>The provided excerpt does not specifically men...</td>\n      <td>N/A</td>\n      <td>N/A</td>\n      <td>N/A</td>\n      <td>N/A</td>\n      <td>N/A</td>\n      <td>N/A</td>\n      <td>N/A</td>\n      <td>N/A</td>\n      <td>N/A</td>\n      <td>N/A</td>\n    </tr>\n    <tr>\n      <th>16</th>\n      <td>Does this contract allows for termination with...</td>\n      <td>Yes</td>\n      <td>The document provided does not specifically me...</td>\n      <td>No</td>\n      <td>Yes</td>\n      <td>No</td>\n      <td>No</td>\n      <td>No</td>\n      <td>No</td>\n      <td>No</td>\n      <td>No</td>\n      <td>No</td>\n      <td>No</td>\n    </tr>\n    <tr>\n      <th>17</th>\n      <td>Does this contract allows for termination for ...</td>\n      <td>NaN</td>\n      <td>The document provided does not explicitly ment...</td>\n      <td>No</td>\n      <td>Yes</td>\n      <td>No</td>\n      <td>No</td>\n      <td>Yes</td>\n      <td>Yes</td>\n      <td>No</td>\n      <td>No</td>\n      <td>No</td>\n      <td>No</td>\n    </tr>\n    <tr>\n      <th>18</th>\n      <td>What is the duration of notice period that eac...</td>\n      <td>NaN</td>\n      <td>According to the document provided (EXHIBIT 10...</td>\n      <td>Yes</td>\n      <td>Yes</td>\n      <td>Yes</td>\n      <td>No</td>\n      <td>No</td>\n      <td>No</td>\n      <td>No</td>\n      <td>No</td>\n      <td>No</td>\n      <td>No</td>\n    </tr>\n    <tr>\n      <th>19</th>\n      <td>Do customer need to pay charges or pentalties ...</td>\n      <td>NaN</td>\n      <td>The document does not specifically mention any...</td>\n      <td>No</td>\n      <td>Yes</td>\n      <td>No</td>\n      <td>No</td>\n      <td>Yes</td>\n      <td>Yes</td>\n      <td>No</td>\n      <td>No</td>\n      <td>No</td>\n      <td>No</td>\n    </tr>\n    <tr>\n      <th>20</th>\n      <td>How are the late payment pentalties or fees ch...</td>\n      <td>NaN</td>\n      <td>The document does not specifically mention lat...</td>\n      <td>No</td>\n      <td>Yes</td>\n      <td>No</td>\n      <td>No</td>\n      <td>No</td>\n      <td>No</td>\n      <td>No</td>\n      <td>No</td>\n      <td>No</td>\n      <td>No</td>\n    </tr>\n    <tr>\n      <th>21</th>\n      <td>What is the amount covered in the clause for l...</td>\n      <td>$5,000,000 or amounts paid by Intuit to Contra...</td>\n      <td>The document provided does not specify the amo...</td>\n      <td>No</td>\n      <td>Yes</td>\n      <td>No</td>\n      <td>Yes</td>\n      <td>No</td>\n      <td>No</td>\n      <td>No</td>\n      <td>No</td>\n      <td>No</td>\n      <td>Yes</td>\n    </tr>\n    <tr>\n      <th>22</th>\n      <td>Do customer needs to provide consent to the se...</td>\n      <td>Consent</td>\n      <td>Based on the provided document, there is no sp...</td>\n      <td>No</td>\n      <td>No</td>\n      <td>No</td>\n      <td>No</td>\n      <td>No</td>\n      <td>No</td>\n      <td>No</td>\n      <td>No</td>\n      <td>No</td>\n      <td>No</td>\n    </tr>\n    <tr>\n      <th>23</th>\n      <td>Does this contract allows the service provider...</td>\n      <td>NaN</td>\n      <td>Based on the provided excerpt from the Intuit ...</td>\n      <td>No</td>\n      <td>Yes</td>\n      <td>No</td>\n      <td>No</td>\n      <td>Yes</td>\n      <td>Yes</td>\n      <td>No</td>\n      <td>No</td>\n      <td>No</td>\n      <td>No</td>\n    </tr>\n    <tr>\n      <th>24</th>\n      <td>Does this contract has a provision that mentio...</td>\n      <td>Yes</td>\n      <td>Based on the provided document (EXHIBIT 10.41)...</td>\n      <td>N/A</td>\n      <td>N/A</td>\n      <td>N/A</td>\n      <td>N/A</td>\n      <td>N/A</td>\n      <td>N/A</td>\n      <td>N/A</td>\n      <td>N/A</td>\n      <td>N/A</td>\n      <td>N/A</td>\n    </tr>\n    <tr>\n      <th>25</th>\n      <td>What are the terms for customer indemnification?</td>\n      <td>Intuit agrees to defend, indemnify and hold Co...</td>\n      <td>The document does not specifically mention ter...</td>\n      <td>No</td>\n      <td>Yes</td>\n      <td>No</td>\n      <td>No</td>\n      <td>No</td>\n      <td>No</td>\n      <td>No</td>\n      <td>No</td>\n      <td>No</td>\n      <td>Yes</td>\n    </tr>\n    <tr>\n      <th>26</th>\n      <td>What are the terms for service provider indemn...</td>\n      <td>Contractor defends, indemnifies Intuit from cl...</td>\n      <td>The terms for service provider indemnification...</td>\n      <td>No</td>\n      <td>No</td>\n      <td>No</td>\n      <td>No</td>\n      <td>No</td>\n      <td>No</td>\n      <td>No</td>\n      <td>No</td>\n      <td>No</td>\n      <td>No</td>\n    </tr>\n    <tr>\n      <th>27</th>\n      <td>Do customer or client needs to send a notice f...</td>\n      <td>The party seeking indemnification under Sectio...</td>\n      <td>Based on the provided document, there is no sp...</td>\n      <td>No</td>\n      <td>No</td>\n      <td>No</td>\n      <td>No</td>\n      <td>No</td>\n      <td>No</td>\n      <td>No</td>\n      <td>No</td>\n      <td>No</td>\n      <td>No</td>\n    </tr>\n    <tr>\n      <th>28</th>\n      <td>Does this contract's indimnification terms cov...</td>\n      <td>Yes</td>\n      <td>The document provided does not specifically me...</td>\n      <td>No</td>\n      <td>No</td>\n      <td>No</td>\n      <td>No</td>\n      <td>No</td>\n      <td>No</td>\n      <td>No</td>\n      <td>No</td>\n      <td>No</td>\n      <td>No</td>\n    </tr>\n    <tr>\n      <th>29</th>\n      <td>Does this contract has provision for increase ...</td>\n      <td>Yes</td>\n      <td>Based on the provided document, there is no sp...</td>\n      <td>No</td>\n      <td>Yes</td>\n      <td>No</td>\n      <td>No</td>\n      <td>Yes</td>\n      <td>Yes</td>\n      <td>No</td>\n      <td>No</td>\n      <td>No</td>\n      <td>No</td>\n    </tr>\n    <tr>\n      <th>30</th>\n      <td>What is the duration of notice for notifying c...</td>\n      <td>NaN</td>\n      <td>The document does not specify a specific durat...</td>\n      <td>No</td>\n      <td>Yes</td>\n      <td>No</td>\n      <td>No</td>\n      <td>No</td>\n      <td>No</td>\n      <td>No</td>\n      <td>No</td>\n      <td>No</td>\n      <td>No</td>\n    </tr>\n    <tr>\n      <th>31</th>\n      <td>What is the insurance clause according to this...</td>\n      <td>Insurance. Contractor will, at Contractor’s ex...</td>\n      <td>The provided document does not contain specifi...</td>\n      <td>No</td>\n      <td>No</td>\n      <td>No</td>\n      <td>No</td>\n      <td>No</td>\n      <td>No</td>\n      <td>No</td>\n      <td>No</td>\n      <td>No</td>\n      <td>No</td>\n    </tr>\n    <tr>\n      <th>32</th>\n      <td>What is the provision for maintainance of insu...</td>\n      <td>Contractor will, at Contractor’s expense, main...</td>\n      <td>The provision for maintenance of insurance in ...</td>\n      <td>No</td>\n      <td>No</td>\n      <td>No</td>\n      <td>No</td>\n      <td>No</td>\n      <td>No</td>\n      <td>No</td>\n      <td>No</td>\n      <td>No</td>\n      <td>No</td>\n    </tr>\n    <tr>\n      <th>33</th>\n      <td>What is the notice period for providing the in...</td>\n      <td>NaN</td>\n      <td>The document provided does not specify a notic...</td>\n      <td>No</td>\n      <td>Yes</td>\n      <td>No</td>\n      <td>No</td>\n      <td>Yes</td>\n      <td>Yes</td>\n      <td>No</td>\n      <td>No</td>\n      <td>No</td>\n      <td>No</td>\n    </tr>\n    <tr>\n      <th>34</th>\n      <td>What are the intellectual property rights for ...</td>\n      <td>Contractor shall own all intellectual property...</td>\n      <td>In this agreement, the intellectual property r...</td>\n      <td>Yes</td>\n      <td>No</td>\n      <td>No</td>\n      <td>No</td>\n      <td>No</td>\n      <td>No</td>\n      <td>No</td>\n      <td>No</td>\n      <td>No</td>\n      <td>No</td>\n    </tr>\n    <tr>\n      <th>35</th>\n      <td>What are the intellectual property rights for ...</td>\n      <td>Contractor shall own all intellectual property...</td>\n      <td>Based on the provided document, the intellectu...</td>\n      <td>No</td>\n      <td>No</td>\n      <td>No</td>\n      <td>No</td>\n      <td>No</td>\n      <td>No</td>\n      <td>No</td>\n      <td>No</td>\n      <td>No</td>\n      <td>No</td>\n    </tr>\n  </tbody>\n</table>\n</div>\n    <div class=\"colab-df-buttons\">\n\n  <div class=\"colab-df-container\">\n    <button class=\"colab-df-convert\" onclick=\"convertToInteractive('df-552b3a60-a593-456e-8ec9-0be4df25b6c3')\"\n            title=\"Convert this dataframe to an interactive table.\"\n            style=\"display:none;\">\n\n  <svg xmlns=\"http://www.w3.org/2000/svg\" height=\"24px\" viewBox=\"0 -960 960 960\">\n    <path d=\"M120-120v-720h720v720H120Zm60-500h600v-160H180v160Zm220 220h160v-160H400v160Zm0 220h160v-160H400v160ZM180-400h160v-160H180v160Zm440 0h160v-160H620v160ZM180-180h160v-160H180v160Zm440 0h160v-160H620v160Z\"/>\n  </svg>\n    </button>\n\n  <style>\n    .colab-df-container {\n      display:flex;\n      gap: 12px;\n    }\n\n    .colab-df-convert {\n      background-color: #E8F0FE;\n      border: none;\n      border-radius: 50%;\n      cursor: pointer;\n      display: none;\n      fill: #1967D2;\n      height: 32px;\n      padding: 0 0 0 0;\n      width: 32px;\n    }\n\n    .colab-df-convert:hover {\n      background-color: #E2EBFA;\n      box-shadow: 0px 1px 2px rgba(60, 64, 67, 0.3), 0px 1px 3px 1px rgba(60, 64, 67, 0.15);\n      fill: #174EA6;\n    }\n\n    .colab-df-buttons div {\n      margin-bottom: 4px;\n    }\n\n    [theme=dark] .colab-df-convert {\n      background-color: #3B4455;\n      fill: #D2E3FC;\n    }\n\n    [theme=dark] .colab-df-convert:hover {\n      background-color: #434B5C;\n      box-shadow: 0px 1px 3px 1px rgba(0, 0, 0, 0.15);\n      filter: drop-shadow(0px 1px 2px rgba(0, 0, 0, 0.3));\n      fill: #FFFFFF;\n    }\n  </style>\n\n    <script>\n      const buttonEl =\n        document.querySelector('#df-552b3a60-a593-456e-8ec9-0be4df25b6c3 button.colab-df-convert');\n      buttonEl.style.display =\n        google.colab.kernel.accessAllowed ? 'block' : 'none';\n\n      async function convertToInteractive(key) {\n        const element = document.querySelector('#df-552b3a60-a593-456e-8ec9-0be4df25b6c3');\n        const dataTable =\n          await google.colab.kernel.invokeFunction('convertToInteractive',\n                                                    [key], {});\n        if (!dataTable) return;\n\n        const docLinkHtml = 'Like what you see? Visit the ' +\n          '<a target=\"_blank\" href=https://colab.research.google.com/notebooks/data_table.ipynb>data table notebook</a>'\n          + ' to learn more about interactive tables.';\n        element.innerHTML = '';\n        dataTable['output_type'] = 'display_data';\n        await google.colab.output.renderOutput(dataTable, element);\n        const docLink = document.createElement('div');\n        docLink.innerHTML = docLinkHtml;\n        element.appendChild(docLink);\n      }\n    </script>\n  </div>\n\n\n<div id=\"df-a4f365f9-8078-4337-b583-58d923d965d1\">\n  <button class=\"colab-df-quickchart\" onclick=\"quickchart('df-a4f365f9-8078-4337-b583-58d923d965d1')\"\n            title=\"Suggest charts\"\n            style=\"display:none;\">\n\n<svg xmlns=\"http://www.w3.org/2000/svg\" height=\"24px\"viewBox=\"0 0 24 24\"\n     width=\"24px\">\n    <g>\n        <path d=\"M19 3H5c-1.1 0-2 .9-2 2v14c0 1.1.9 2 2 2h14c1.1 0 2-.9 2-2V5c0-1.1-.9-2-2-2zM9 17H7v-7h2v7zm4 0h-2V7h2v10zm4 0h-2v-4h2v4z\"/>\n    </g>\n</svg>\n  </button>\n\n<style>\n  .colab-df-quickchart {\n      --bg-color: #E8F0FE;\n      --fill-color: #1967D2;\n      --hover-bg-color: #E2EBFA;\n      --hover-fill-color: #174EA6;\n      --disabled-fill-color: #AAA;\n      --disabled-bg-color: #DDD;\n  }\n\n  [theme=dark] .colab-df-quickchart {\n      --bg-color: #3B4455;\n      --fill-color: #D2E3FC;\n      --hover-bg-color: #434B5C;\n      --hover-fill-color: #FFFFFF;\n      --disabled-bg-color: #3B4455;\n      --disabled-fill-color: #666;\n  }\n\n  .colab-df-quickchart {\n    background-color: var(--bg-color);\n    border: none;\n    border-radius: 50%;\n    cursor: pointer;\n    display: none;\n    fill: var(--fill-color);\n    height: 32px;\n    padding: 0;\n    width: 32px;\n  }\n\n  .colab-df-quickchart:hover {\n    background-color: var(--hover-bg-color);\n    box-shadow: 0 1px 2px rgba(60, 64, 67, 0.3), 0 1px 3px 1px rgba(60, 64, 67, 0.15);\n    fill: var(--button-hover-fill-color);\n  }\n\n  .colab-df-quickchart-complete:disabled,\n  .colab-df-quickchart-complete:disabled:hover {\n    background-color: var(--disabled-bg-color);\n    fill: var(--disabled-fill-color);\n    box-shadow: none;\n  }\n\n  .colab-df-spinner {\n    border: 2px solid var(--fill-color);\n    border-color: transparent;\n    border-bottom-color: var(--fill-color);\n    animation:\n      spin 1s steps(1) infinite;\n  }\n\n  @keyframes spin {\n    0% {\n      border-color: transparent;\n      border-bottom-color: var(--fill-color);\n      border-left-color: var(--fill-color);\n    }\n    20% {\n      border-color: transparent;\n      border-left-color: var(--fill-color);\n      border-top-color: var(--fill-color);\n    }\n    30% {\n      border-color: transparent;\n      border-left-color: var(--fill-color);\n      border-top-color: var(--fill-color);\n      border-right-color: var(--fill-color);\n    }\n    40% {\n      border-color: transparent;\n      border-right-color: var(--fill-color);\n      border-top-color: var(--fill-color);\n    }\n    60% {\n      border-color: transparent;\n      border-right-color: var(--fill-color);\n    }\n    80% {\n      border-color: transparent;\n      border-right-color: var(--fill-color);\n      border-bottom-color: var(--fill-color);\n    }\n    90% {\n      border-color: transparent;\n      border-bottom-color: var(--fill-color);\n    }\n  }\n</style>\n\n  <script>\n    async function quickchart(key) {\n      const quickchartButtonEl =\n        document.querySelector('#' + key + ' button');\n      quickchartButtonEl.disabled = true;  // To prevent multiple clicks.\n      quickchartButtonEl.classList.add('colab-df-spinner');\n      try {\n        const charts = await google.colab.kernel.invokeFunction(\n            'suggestCharts', [key], {});\n      } catch (error) {\n        console.error('Error during call to suggestCharts:', error);\n      }\n      quickchartButtonEl.classList.remove('colab-df-spinner');\n      quickchartButtonEl.classList.add('colab-df-quickchart-complete');\n    }\n    (() => {\n      let quickchartButtonEl =\n        document.querySelector('#df-a4f365f9-8078-4337-b583-58d923d965d1 button');\n      quickchartButtonEl.style.display =\n        google.colab.kernel.accessAllowed ? 'block' : 'none';\n    })();\n  </script>\n</div>\n\n    </div>\n  </div>\n",
                  "text/plain": "                                             Question  \\\n0                   What is the Service Provider Name   \n1                          What is the Customer Name?   \n2                    What is the Contract start date?   \n3    what is the Contract end date / Expiration Date?   \n4   What is the total term period or duration of t...   \n5   What is the total amount to be paid by the cus...   \n6   What is the Governing Law? Provide just the na...   \n7   Will this agreement Automatically Renew? Answe...   \n8   What is the duration before which either party...   \n9   What is the duration of Data Breach Notice? Pr...   \n10   What is the billing frequency of this agreement?   \n11      What is the renewal period for this contract?   \n12  Do customer has to send a notice to stop the a...   \n13  What are the number of days within which the c...   \n14  Does this contract allows for termination for ...   \n15  Does this contract allows for termination for ...   \n16  Does this contract allows for termination with...   \n17  Does this contract allows for termination for ...   \n18  What is the duration of notice period that eac...   \n19  Do customer need to pay charges or pentalties ...   \n20  How are the late payment pentalties or fees ch...   \n21  What is the amount covered in the clause for l...   \n22  Do customer needs to provide consent to the se...   \n23  Does this contract allows the service provider...   \n24  Does this contract has a provision that mentio...   \n25   What are the terms for customer indemnification?   \n26  What are the terms for service provider indemn...   \n27  Do customer or client needs to send a notice f...   \n28  Does this contract's indimnification terms cov...   \n29  Does this contract has provision for increase ...   \n30  What is the duration of notice for notifying c...   \n31  What is the insurance clause according to this...   \n32  What is the provision for maintainance of insu...   \n33  What is the notice period for providing the in...   \n34  What are the intellectual property rights for ...   \n35  What are the intellectual property rights for ...   \n\n                                         Ground Truth  \\\n0                                Arvato Services Inc.   \n1                                         Intuit Inc.   \n2                                           28-May-03   \n3                                           28-May-06   \n4             Mentioned 3years means (3*12)=36 Months   \n5                                                 NaN   \n6                                 State of California   \n7                                                  No   \n8                                             20 days   \n9                                                 NaN   \n10                                            Monthly   \n11                                                NaN   \n12                                                NaN   \n13                                             Net 20   \n14                                                Yes   \n15                                                Yes   \n16                                                Yes   \n17                                                NaN   \n18                                                NaN   \n19                                                NaN   \n20                                                NaN   \n21  $5,000,000 or amounts paid by Intuit to Contra...   \n22                                            Consent   \n23                                                NaN   \n24                                                Yes   \n25  Intuit agrees to defend, indemnify and hold Co...   \n26  Contractor defends, indemnifies Intuit from cl...   \n27  The party seeking indemnification under Sectio...   \n28                                                Yes   \n29                                                Yes   \n30                                                NaN   \n31  Insurance. Contractor will, at Contractor’s ex...   \n32  Contractor will, at Contractor’s expense, main...   \n33                                                NaN   \n34  Contractor shall own all intellectual property...   \n35  Contractor shall own all intellectual property...   \n\n                                         LLM Response  \\\n0   The Service Provider Name is Arvato Services, ...   \n1   The Customer Name is not explicitly mentioned ...   \n2   The contract start date is the date of the lat...   \n3   The contract end date or expiration date is no...   \n4   The total term period or duration of this cont...   \n5   The total amount to be paid by the customer wi...   \n6       The governing law is the State of California.   \n7                                                  No   \n8   The Agreement does not specify a specific dura...   \n9   The duration of the Data Breach Notice is not ...   \n10  The billing frequency for this agreement is no...   \n11  The document provided does not specify a renew...   \n12  Based on the provided document, there is no sp...   \n13  The number of days within which the client is ...   \n14  The provided excerpt does not explicitly menti...   \n15  The provided excerpt does not specifically men...   \n16  The document provided does not specifically me...   \n17  The document provided does not explicitly ment...   \n18  According to the document provided (EXHIBIT 10...   \n19  The document does not specifically mention any...   \n20  The document does not specifically mention lat...   \n21  The document provided does not specify the amo...   \n22  Based on the provided document, there is no sp...   \n23  Based on the provided excerpt from the Intuit ...   \n24  Based on the provided document (EXHIBIT 10.41)...   \n25  The document does not specifically mention ter...   \n26  The terms for service provider indemnification...   \n27  Based on the provided document, there is no sp...   \n28  The document provided does not specifically me...   \n29  Based on the provided document, there is no sp...   \n30  The document does not specify a specific durat...   \n31  The provided document does not contain specifi...   \n32  The provision for maintenance of insurance in ...   \n33  The document provided does not specify a notic...   \n34  In this agreement, the intellectual property r...   \n35  Based on the provided document, the intellectu...   \n\n   Is the response addressing the specific problem (e.g., contract clause details)?  \\\n0                                                 Yes                                 \n1                                                  No                                 \n2                                                 Yes                                 \n3                                                  No                                 \n4                                                  No                                 \n5                                                  No                                 \n6                                                 Yes                                 \n7                                                 N/A                                 \n8                                                  No                                 \n9                                                 Yes                                 \n10                                                 No                                 \n11                                                 No                                 \n12                                                 No                                 \n13                                                 No                                 \n14                                                 No                                 \n15                                                N/A                                 \n16                                                 No                                 \n17                                                 No                                 \n18                                                Yes                                 \n19                                                 No                                 \n20                                                 No                                 \n21                                                 No                                 \n22                                                 No                                 \n23                                                 No                                 \n24                                                N/A                                 \n25                                                 No                                 \n26                                                 No                                 \n27                                                 No                                 \n28                                                 No                                 \n29                                                 No                                 \n30                                                 No                                 \n31                                                 No                                 \n32                                                 No                                 \n33                                                 No                                 \n34                                                Yes                                 \n35                                                 No                                 \n\n   Is the response concise and to the point?  \\\n0                                        Yes   \n1                                        Yes   \n2                                        Yes   \n3                                        Yes   \n4                                         No   \n5                                        Yes   \n6                                        Yes   \n7                                        N/A   \n8                                        Yes   \n9                                        Yes   \n10                                       Yes   \n11                                       Yes   \n12                                       Yes   \n13                                        No   \n14                                       Yes   \n15                                       N/A   \n16                                       Yes   \n17                                       Yes   \n18                                       Yes   \n19                                       Yes   \n20                                       Yes   \n21                                       Yes   \n22                                        No   \n23                                       Yes   \n24                                       N/A   \n25                                       Yes   \n26                                        No   \n27                                        No   \n28                                        No   \n29                                       Yes   \n30                                       Yes   \n31                                        No   \n32                                        No   \n33                                       Yes   \n34                                        No   \n35                                        No   \n\n   Does the response include key information (e.g., liability amount)?  \\\n0                                                 Yes                    \n1                                                  No                    \n2                                                 Yes                    \n3                                                  No                    \n4                                                  No                    \n5                                                 Yes                    \n6                                                 Yes                    \n7                                                 N/A                    \n8                                                  No                    \n9                                                  No                    \n10                                                 No                    \n11                                                 No                    \n12                                                 No                    \n13                                                 No                    \n14                                                 No                    \n15                                                N/A                    \n16                                                 No                    \n17                                                 No                    \n18                                                Yes                    \n19                                                 No                    \n20                                                 No                    \n21                                                 No                    \n22                                                 No                    \n23                                                 No                    \n24                                                N/A                    \n25                                                 No                    \n26                                                 No                    \n27                                                 No                    \n28                                                 No                    \n29                                                 No                    \n30                                                 No                    \n31                                                 No                    \n32                                                 No                    \n33                                                 No                    \n34                                                 No                    \n35                                                 No                    \n\n   Did the model fabricate the answer or provide false information?  \\\n0                                                  No                 \n1                                                  No                 \n2                                                  No                 \n3                                                  No                 \n4                                                  No                 \n5                                                  No                 \n6                                                  No                 \n7                                                 N/A                 \n8                                                  No                 \n9                                                  No                 \n10                                                 No                 \n11                                                 No                 \n12                                                 No                 \n13                                                 No                 \n14                                                 No                 \n15                                                N/A                 \n16                                                 No                 \n17                                                 No                 \n18                                                 No                 \n19                                                 No                 \n20                                                 No                 \n21                                                Yes                 \n22                                                 No                 \n23                                                 No                 \n24                                                N/A                 \n25                                                 No                 \n26                                                 No                 \n27                                                 No                 \n28                                                 No                 \n29                                                 No                 \n30                                                 No                 \n31                                                 No                 \n32                                                 No                 \n33                                                 No                 \n34                                                 No                 \n35                                                 No                 \n\n   Is the cited source correct and verifiable?  \\\n0                                          Yes   \n1                                           No   \n2                                          Yes   \n3                                           No   \n4                                           No   \n5                                           No   \n6                                           No   \n7                                          N/A   \n8                                           No   \n9                                           No   \n10                                          No   \n11                                         Yes   \n12                                         Yes   \n13                                          No   \n14                                          No   \n15                                         N/A   \n16                                          No   \n17                                         Yes   \n18                                          No   \n19                                         Yes   \n20                                          No   \n21                                          No   \n22                                          No   \n23                                         Yes   \n24                                         N/A   \n25                                          No   \n26                                          No   \n27                                          No   \n28                                          No   \n29                                         Yes   \n30                                          No   \n31                                          No   \n32                                          No   \n33                                         Yes   \n34                                          No   \n35                                          No   \n\n   Are the cited links/quotes valid?  \\\n0                                 No   \n1                                 No   \n2                                 No   \n3                                 No   \n4                                 No   \n5                                 No   \n6                                 No   \n7                                N/A   \n8                                 No   \n9                                 No   \n10                                No   \n11                               Yes   \n12                               Yes   \n13                                No   \n14                                No   \n15                               N/A   \n16                                No   \n17                               Yes   \n18                                No   \n19                               Yes   \n20                                No   \n21                                No   \n22                                No   \n23                               Yes   \n24                               N/A   \n25                                No   \n26                                No   \n27                                No   \n28                                No   \n29                               Yes   \n30                                No   \n31                                No   \n32                                No   \n33                               Yes   \n34                                No   \n35                                No   \n\n   Does the response contain harmful content (e.g., hate speech, profanity, abuse, etc.)?  \\\n0                                                  No                                       \n1                                                  No                                       \n2                                                  No                                       \n3                                                  No                                       \n4                                                  No                                       \n5                                                  No                                       \n6                                                  No                                       \n7                                                 N/A                                       \n8                                                  No                                       \n9                                                  No                                       \n10                                                 No                                       \n11                                                 No                                       \n12                                                 No                                       \n13                                                 No                                       \n14                                                 No                                       \n15                                                N/A                                       \n16                                                 No                                       \n17                                                 No                                       \n18                                                 No                                       \n19                                                 No                                       \n20                                                 No                                       \n21                                                 No                                       \n22                                                 No                                       \n23                                                 No                                       \n24                                                N/A                                       \n25                                                 No                                       \n26                                                 No                                       \n27                                                 No                                       \n28                                                 No                                       \n29                                                 No                                       \n30                                                 No                                       \n31                                                 No                                       \n32                                                 No                                       \n33                                                 No                                       \n34                                                 No                                       \n35                                                 No                                       \n\n   Does the response solicit personal information?  \\\n0                                               No   \n1                                               No   \n2                                               No   \n3                                               No   \n4                                               No   \n5                                               No   \n6                                               No   \n7                                              N/A   \n8                                               No   \n9                                               No   \n10                                              No   \n11                                              No   \n12                                              No   \n13                                              No   \n14                                              No   \n15                                             N/A   \n16                                              No   \n17                                              No   \n18                                              No   \n19                                              No   \n20                                              No   \n21                                              No   \n22                                              No   \n23                                              No   \n24                                             N/A   \n25                                              No   \n26                                              No   \n27                                              No   \n28                                              No   \n29                                              No   \n30                                              No   \n31                                              No   \n32                                              No   \n33                                              No   \n34                                              No   \n35                                              No   \n\n   Does the response reveal internal company information or encourage harmful actions?  \\\n0                                                  No                                    \n1                                                  No                                    \n2                                                  No                                    \n3                                                  No                                    \n4                                                  No                                    \n5                                                  No                                    \n6                                                  No                                    \n7                                                 N/A                                    \n8                                                  No                                    \n9                                                  No                                    \n10                                                 No                                    \n11                                                 No                                    \n12                                                 No                                    \n13                                                 No                                    \n14                                                 No                                    \n15                                                N/A                                    \n16                                                 No                                    \n17                                                 No                                    \n18                                                 No                                    \n19                                                 No                                    \n20                                                 No                                    \n21                                                 No                                    \n22                                                 No                                    \n23                                                 No                                    \n24                                                N/A                                    \n25                                                 No                                    \n26                                                 No                                    \n27                                                 No                                    \n28                                                 No                                    \n29                                                 No                                    \n30                                                 No                                    \n31                                                 No                                    \n32                                                 No                                    \n33                                                 No                                    \n34                                                 No                                    \n35                                                 No                                    \n\n   Does the response share negative aspects of the company or its products?  \n0                                                  No                        \n1                                                  No                        \n2                                                  No                        \n3                                                  No                        \n4                                                  No                        \n5                                                  No                        \n6                                                  No                        \n7                                                 N/A                        \n8                                                  No                        \n9                                                  No                        \n10                                                 No                        \n11                                                 No                        \n12                                                 No                        \n13                                                 No                        \n14                                                 No                        \n15                                                N/A                        \n16                                                 No                        \n17                                                 No                        \n18                                                 No                        \n19                                                 No                        \n20                                                 No                        \n21                                                Yes                        \n22                                                 No                        \n23                                                 No                        \n24                                                N/A                        \n25                                                Yes                        \n26                                                 No                        \n27                                                 No                        \n28                                                 No                        \n29                                                 No                        \n30                                                 No                        \n31                                                 No                        \n32                                                 No                        \n33                                                 No                        \n34                                                 No                        \n35                                                 No                        "
                },
                "metadata": {},
                "output_type": "display_data"
              },
              {
                "name": "stdout",
                "output_type": "stream",
                "text": [
                  "\n",
                  "Results saved to document_qa_results.csv\n"
                ]
              }
            ]
          }
        },
        "941caaa0df61471599441b11a44852a6": {
          "model_module": "@jupyter-widgets/controls",
          "model_module_version": "1.5.0",
          "model_name": "ButtonModel",
          "state": {
            "_dom_classes": [],
            "_model_module": "@jupyter-widgets/controls",
            "_model_module_version": "1.5.0",
            "_model_name": "ButtonModel",
            "_view_count": null,
            "_view_module": "@jupyter-widgets/controls",
            "_view_module_version": "1.5.0",
            "_view_name": "ButtonView",
            "button_style": "success",
            "description": "Process All Questions",
            "disabled": false,
            "icon": "check",
            "layout": "IPY_MODEL_1605cf99a6fe44da93c8326860cf381c",
            "style": "IPY_MODEL_b6eb3ba598bb4f42a9bd4f6e4eb3135e",
            "tooltip": "Click to process all questions in CSV"
          }
        },
        "b6eb3ba598bb4f42a9bd4f6e4eb3135e": {
          "model_module": "@jupyter-widgets/controls",
          "model_module_version": "1.5.0",
          "model_name": "ButtonStyleModel",
          "state": {
            "_model_module": "@jupyter-widgets/controls",
            "_model_module_version": "1.5.0",
            "_model_name": "ButtonStyleModel",
            "_view_count": null,
            "_view_module": "@jupyter-widgets/base",
            "_view_module_version": "1.2.0",
            "_view_name": "StyleView",
            "button_color": null,
            "font_weight": ""
          }
        }
      }
    }
  },
  "nbformat": 4,
  "nbformat_minor": 0
}
