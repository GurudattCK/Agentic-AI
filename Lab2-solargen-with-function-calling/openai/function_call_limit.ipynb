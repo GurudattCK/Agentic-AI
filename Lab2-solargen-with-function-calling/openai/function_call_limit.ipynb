{
 "cells": [
  {
   "cell_type": "code",
   "execution_count": 1,
   "metadata": {},
   "outputs": [],
   "source": [
    "# %%capture\n",
    "# !pip install openai\n",
    "# !pip install python-dotenv\n",
    "# !pip install urllib3"
   ]
  },
  {
   "cell_type": "code",
   "execution_count": 2,
   "metadata": {},
   "outputs": [
    {
     "data": {
      "text/plain": [
       "True"
      ]
     },
     "execution_count": 2,
     "metadata": {},
     "output_type": "execute_result"
    }
   ],
   "source": [
    "import json\n",
    "import os\n",
    "from dotenv import load_dotenv\n",
    "from openai import OpenAI\n",
    "import time\n",
    "import function_call_limit_functions as FC\n",
    "from function_call_tools import tools, instruction1, instruction2\n",
    "load_dotenv()"
   ]
  },
  {
   "cell_type": "markdown",
   "metadata": {},
   "source": [
    "#### The class AssistantManager will store functions for creating assistants, creating threads for the assistants, adding message to the threads, running the assistants. Then we will wait for the the completions and submit the response back to the assistant again for generating a response."
   ]
  },
  {
   "cell_type": "code",
   "execution_count": 3,
   "metadata": {},
   "outputs": [],
   "source": [
    "class AssistantManager:\n",
    "  def __init__(self,api_key:str,model:str=\"gpt-3.5-turbo-1106\"):\n",
    "    self.client = OpenAI(api_key=api_key)\n",
    "    self.model = model\n",
    "    self.assistant = None\n",
    "    self.thread = None\n",
    "    self.run = None\n",
    "    self.file = None\n",
    "    self.message = None\n",
    "\n",
    "  def create_assistant(self,name, instructions, tools,id):\n",
    "        assistant_file_path = './assistant.json'\n",
    "        if os.path.exists(assistant_file_path):\n",
    "          with open(assistant_file_path, 'r') as file:\n",
    "            assistant_data = json.load(file)\n",
    "            if f'{id}' in assistant_data:\n",
    "              assistant_id = assistant_data[f'{id}']['assistant_id']\n",
    "              self.assistant = self.client.beta.assistants.retrieve(assistant_id)\n",
    "              file.close()\n",
    "            else:\n",
    "               self.assistant = self.client.beta.assistants.create(\n",
    "                name = name,\n",
    "                instructions = instructions,\n",
    "                tools = tools,\n",
    "                model = self.model\n",
    "                )\n",
    "               assistant_data[f'{id}'] = {'assistant_id': self.assistant.id}\n",
    "               with open(assistant_file_path, 'w') as file:\n",
    "                json.dump(assistant_data, file)\n",
    "                file.close()\n",
    "               \n",
    "        else:\n",
    "            self.assistant = self.client.beta.assistants.create(\n",
    "                name = name,\n",
    "                instructions = instructions,\n",
    "                tools = tools,\n",
    "                model = self.model\n",
    "            )\n",
    "            with open(assistant_file_path, 'w') as file:\n",
    "              json.dump({f'{id}':{'assistant_id': self.assistant.id}}, file)\n",
    "              print(\"Created a new assistant and saved the ID.\")\n",
    "              file.close()\n",
    "\n",
    "  def create_thread(self,id):\n",
    "      thread_file_path = './assistant_thread.json'\n",
    "      if os.path.exists(thread_file_path):\n",
    "        with open(thread_file_path, 'r') as file:\n",
    "          thread_data = json.load(file)\n",
    "          if f'{id}' in thread_data:\n",
    "            thread_id = thread_data[f'{id}']['thread_id']\n",
    "            self.thread = self.client.beta.threads.retrieve(thread_id = thread_id)\n",
    "            file.close()\n",
    "          else:\n",
    "             self.thread = self.client.beta.threads.create()\n",
    "             thread_data[f'{id}'] = {'thread_id': self.thread.id}\n",
    "             with open(thread_file_path, 'w') as file:\n",
    "              json.dump(thread_data, file)\n",
    "              file.close()\n",
    "      else:\n",
    "        self.thread = self.client.beta.threads.create()\n",
    "        with open(thread_file_path, 'w') as file:\n",
    "              json.dump({f'{id}':{'thread_id': self.thread.id}}, file)\n",
    "              print(\"Created a new thread and saved the ID.\")\n",
    "              file.close()\n",
    "\n",
    "  def add_message_to_thread(self,role,content):\n",
    "    self.message = self.client.beta.threads.messages.create(\n",
    "      thread_id = self.thread.id,\n",
    "      role = role,\n",
    "      content = content\n",
    "    )\n",
    "\n",
    "  def run_assistant(self,instructions):\n",
    "    self.run = self.client.beta.threads.runs.create(\n",
    "      thread_id = self.thread.id,\n",
    "      assistant_id=self.assistant.id,\n",
    "      instructions = instructions\n",
    "    )\n",
    "\n",
    "  def process_messages(self):\n",
    "    messages = self.client.beta.threads.messages.list(thread_id = self.thread.id)\n",
    "\n",
    "    msg = messages.data[0]\n",
    "    role = msg.role\n",
    "    content = msg.content[0].text.value\n",
    "    #print(f\"{role.capitalize}:{content}\")\n",
    "    return content\n",
    "\n",
    "  def wait_for_completion(self):\n",
    "    while True:\n",
    "      time.sleep(5)\n",
    "      run_status = self.client.beta.threads.runs.retrieve(\n",
    "        thread_id = self.thread.id,\n",
    "        run_id = self.run.id\n",
    "      )\n",
    "      \n",
    "      print(run_status.status)\n",
    "      if run_status.status == 'completed':\n",
    "        return(self.process_messages())\n",
    "        break\n",
    "      elif run_status.status == 'requires_action':\n",
    "        print(\"Function Calling ...\")\n",
    "        self.call_required_functions(run_status.required_action.submit_tool_outputs.model_dump())\n",
    "      elif run_status.status==\"failed\":\n",
    "        print(run_status.last_error)\n",
    "        return (\"The assistant got rate limited, try again after some time or refresh the page and try again\")\n",
    "        break\n",
    "      else:\n",
    "        print(\"Waiting for the Assistant to process..\") \n",
    "  \n",
    "  def call_required_functions(self, required_actions):\n",
    "    tool_output = []\n",
    "\n",
    "    for action in required_actions[\"tool_calls\"]:\n",
    "      func_name = action['function']['name']\n",
    "      arguments = json.loads(action['function']['arguments'])\n",
    "      print(arguments)\n",
    "    \n",
    "      func_name = eval(\"FC.\"+func_name)\n",
    "      output = func_name(**arguments)\n",
    "      tool_output.append(\n",
    "        {\n",
    "          \"tool_call_id\":action['id'],\n",
    "          \"output\": str(output)\n",
    "        }\n",
    "      )\n",
    "    \n",
    "    print(\"Submitting outputs back to the Assistants...\")\n",
    "    self.client.beta.threads.runs.submit_tool_outputs(\n",
    "      thread_id = self.thread.id,\n",
    "      run_id = self.run.id,\n",
    "      tool_outputs=tool_output\n",
    "    )"
   ]
  },
  {
   "cell_type": "code",
   "execution_count": 4,
   "metadata": {},
   "outputs": [],
   "source": [
    "api_key = os.getenv(\"Open_AI_key\")\n",
    "manager = AssistantManager(api_key)\n",
    "\n",
    "manager.create_assistant(\n",
    "    name = \"Function_limit\",\n",
    "    instructions=instruction1,\n",
    "    tools = tools,\n",
    "    id = \"673224\"\n",
    ")"
   ]
  },
  {
   "cell_type": "code",
   "execution_count": 5,
   "metadata": {},
   "outputs": [
    {
     "name": "stdout",
     "output_type": "stream",
     "text": [
      "requires_action\n",
      "Function Calling ...\n",
      "{'text': 'I feel like dying today, I am sad'}\n",
      "Submitting outputs back to the Assistants...\n",
      "completed\n",
      "The sentiment analysis of the text indicates that it has a negative sentiment. If there's anything specific you'd like to talk about or if you need support, feel free to share.\n"
     ]
    }
   ],
   "source": [
    "time.sleep(5)\n",
    "manager.create_thread(id = \"673224\")\n",
    "\n",
    "manager.add_message_to_thread(role=\"user\",content=\"I feel like dying today, I am sad\")\n",
    "\n",
    "manager.run_assistant(instruction2)\n",
    "print(manager.wait_for_completion())"
   ]
  },
  {
   "cell_type": "code",
   "execution_count": 6,
   "metadata": {},
   "outputs": [
    {
     "name": "stdout",
     "output_type": "stream",
     "text": [
      "requires_action\n",
      "Function Calling ...\n",
      "{'email': 'rishavmitra3'}\n",
      "Submitting outputs back to the Assistants...\n",
      "completed\n",
      "The email pattern you provided is not valid. An email address should include an \"@\" symbol and a domain name. If you have a valid email address to check, feel free to provide it.\n"
     ]
    }
   ],
   "source": [
    "time.sleep(5)\n",
    "manager.create_thread(id = \"673224\")\n",
    "\n",
    "manager.add_message_to_thread(role=\"user\",content=\"check the email rishavmitra3\")\n",
    "\n",
    "manager.run_assistant(instruction2)\n",
    "print(manager.wait_for_completion())"
   ]
  },
  {
   "cell_type": "code",
   "execution_count": 14,
   "metadata": {},
   "outputs": [
    {
     "name": "stdout",
     "output_type": "stream",
     "text": [
      "requires_action\n",
      "Function Calling ...\n",
      "{'password': 'rishavmitra3'}\n",
      "Submitting outputs back to the Assistants...\n",
      "completed\n",
      "The password \"rishavmitra3\" has been identified as strong.\n"
     ]
    }
   ],
   "source": [
    "time.sleep(5)\n",
    "manager.create_thread(id = \"673224\")\n",
    "\n",
    "manager.add_message_to_thread(role=\"user\",content=\"check the password rishavmitra3\")\n",
    "\n",
    "manager.run_assistant(instruction2)\n",
    "print(manager.wait_for_completion())"
   ]
  },
  {
   "cell_type": "code",
   "execution_count": 15,
   "metadata": {},
   "outputs": [
    {
     "name": "stdout",
     "output_type": "stream",
     "text": [
      "requires_action\n",
      "Function Calling ...\n",
      "{'temperature': 100.482, 'delta_energy': 30.12}\n",
      "Submitting outputs back to the Assistants...\n",
      "completed\n",
      "The entropy calculated for the given values is 0.2997551800322446 Joules/Kelvin. If there's anything else you'd like to calculate or discuss, feel free to let me know!\n"
     ]
    }
   ],
   "source": [
    "time.sleep(5)\n",
    "manager.create_thread(id = \"673224\")\n",
    "\n",
    "manager.add_message_to_thread(role=\"user\",content=\"calculate the entropy for 30.12 Joules and 100.482 Kelvin\")\n",
    "\n",
    "manager.run_assistant(instruction2)\n",
    "print(manager.wait_for_completion())"
   ]
  },
  {
   "cell_type": "code",
   "execution_count": 17,
   "metadata": {},
   "outputs": [
    {
     "name": "stdout",
     "output_type": "stream",
     "text": [
      "requires_action\n",
      "Function Calling ...\n",
      "{'wavelength': 120, 'frequency': 50}\n",
      "Submitting outputs back to the Assistants...\n",
      "completed\n",
      "The wave speed calculated for a wavelength of 120 meters and a frequency of 50 Hz is 6000 m/s. If you have any more calculations or questions, feel free to ask!\n"
     ]
    }
   ],
   "source": [
    "time.sleep(5)\n",
    "manager.create_thread(id = \"673224\")\n",
    "\n",
    "manager.add_message_to_thread(role=\"user\",content=\"120 meters and 50 Hz\")\n",
    "\n",
    "manager.run_assistant(instruction2)\n",
    "print(manager.wait_for_completion())"
   ]
  },
  {
   "cell_type": "code",
   "execution_count": 18,
   "metadata": {},
   "outputs": [
    {
     "name": "stdout",
     "output_type": "stream",
     "text": [
      "requires_action\n",
      "Function Calling ...\n",
      "{'v0': 30, 'theta': 100}\n",
      "Submitting outputs back to the Assistants...\n",
      "in_progress\n",
      "Waiting for the Assistant to process..\n",
      "completed\n",
      "The horizontal range of a projectile launched at an angle of 100 degrees with an initial velocity of 30 m/s is approximately -31.41 meters. If you have any more calculations or questions, feel free to ask!\n"
     ]
    }
   ],
   "source": [
    "time.sleep(5)\n",
    "manager.create_thread(id = \"673224\")\n",
    "\n",
    "manager.add_message_to_thread(role=\"user\",content=\"Calculate the projectile motion for 100degrees and 30 m/s\")\n",
    "\n",
    "manager.run_assistant(instruction2)\n",
    "print(manager.wait_for_completion())"
   ]
  },
  {
   "cell_type": "code",
   "execution_count": 20,
   "metadata": {},
   "outputs": [
    {
     "name": "stdout",
     "output_type": "stream",
     "text": [
      "requires_action\n",
      "Function Calling ...\n",
      "{'celsius': 32}\n",
      "Submitting outputs back to the Assistants...\n",
      "completed\n",
      "32 degrees Celsius is equal to 89.6 degrees Fahrenheit. If you have any more conversions or calculations in mind, feel free to ask!\n"
     ]
    }
   ],
   "source": [
    "time.sleep(5)\n",
    "manager.create_thread(id = \"673224\")\n",
    "\n",
    "manager.add_message_to_thread(role=\"user\",content=\"Convert 32C\")\n",
    "\n",
    "manager.run_assistant(instruction2)\n",
    "print(manager.wait_for_completion())"
   ]
  },
  {
   "cell_type": "code",
   "execution_count": 21,
   "metadata": {},
   "outputs": [
    {
     "name": "stdout",
     "output_type": "stream",
     "text": [
      "requires_action\n",
      "Function Calling ...\n",
      "{'n': 50}\n",
      "Submitting outputs back to the Assistants...\n",
      "completed\n",
      "The even square numbers up to 50 are: 0, 4, 16, 36, 64, 100, 144, 196, 256, 324, 400, 484, 576, 676, 784, 900, 1024, 1156, 1296, 1444, 1600, 1764, 1936, 2116, 2304. If you have any other queries or tasks, feel free to ask!\n"
     ]
    }
   ],
   "source": [
    "time.sleep(5)\n",
    "manager.create_thread(id = \"673224\")\n",
    "\n",
    "manager.add_message_to_thread(role=\"user\",content=\"Find all even square number till 50\")\n",
    "\n",
    "manager.run_assistant(instruction2)\n",
    "print(manager.wait_for_completion())"
   ]
  },
  {
   "cell_type": "code",
   "execution_count": 22,
   "metadata": {},
   "outputs": [
    {
     "name": "stdout",
     "output_type": "stream",
     "text": [
      "requires_action\n",
      "Function Calling ...\n",
      "{'binary': '11001101'}\n",
      "Submitting outputs back to the Assistants...\n",
      "completed\n",
      "The binary number \"11001101\" is equivalent to the decimal number 205. If there's anything else you'd like to calculate or discuss, feel free to let me know!\n"
     ]
    }
   ],
   "source": [
    "time.sleep(5)\n",
    "manager.create_thread(id = \"673224\")\n",
    "\n",
    "manager.add_message_to_thread(role=\"user\",content=\"11001101 to decimal\")\n",
    "\n",
    "manager.run_assistant(instruction2)\n",
    "print(manager.wait_for_completion())"
   ]
  }
 ],
 "metadata": {
  "kernelspec": {
   "display_name": "Python 3",
   "language": "python",
   "name": "python3"
  },
  "language_info": {
   "codemirror_mode": {
    "name": "ipython",
    "version": 3
   },
   "file_extension": ".py",
   "mimetype": "text/x-python",
   "name": "python",
   "nbconvert_exporter": "python",
   "pygments_lexer": "ipython3",
   "version": "3.11.0"
  }
 },
 "nbformat": 4,
 "nbformat_minor": 2
}
